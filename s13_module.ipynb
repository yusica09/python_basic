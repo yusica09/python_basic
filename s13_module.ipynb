{
 "cells": [
  {
   "cell_type": "code",
   "execution_count": 1,
   "id": "cfcf961b",
   "metadata": {},
   "outputs": [
    {
     "name": "stdout",
     "output_type": "stream",
     "text": [
      "2 days, 0:10:00\n"
     ]
    }
   ],
   "source": [
    "\"\"\"\n",
    "datetime 모듈\n",
    "datetime.timedelta() : 일시에 대한 산술 연산이 가능하게 포맷 변환\n",
    "datetime.date.tody() : 오늘의 날짜 구함\n",
    "datetime.datetime.now() : 현재의 날짜와 시간 구함\n",
    "datetime.datetime.strftime() : 날짜와 시간을 포맷 기호로 특정 포맷으로 변환\n",
    "\"\"\"\n",
    "import datetime\n",
    "\n",
    "#datetime.timedelta() 함수는 기간을 컴퓨터 내부 시간 포맷인 마이크로 초로 일시를 저장\n",
    "time1 = datetime.timedelta(days=3,hours=3,minutes=30)\n",
    "time2 = datetime.timedelta(days=5,hours=3,minutes=40)\n",
    "print(time2-time1)"
   ]
  },
  {
   "cell_type": "code",
   "execution_count": 3,
   "id": "0a9a9fbe",
   "metadata": {},
   "outputs": [
    {
     "name": "stdout",
     "output_type": "stream",
     "text": [
      "2025-07-04\n"
     ]
    }
   ],
   "source": [
    "today = datetime.date.today() #오늘의 날짜\n",
    "print(today)"
   ]
  },
  {
   "cell_type": "code",
   "execution_count": 4,
   "id": "5a3b06d3",
   "metadata": {},
   "outputs": [
    {
     "name": "stdout",
     "output_type": "stream",
     "text": [
      "오늘 :  2025-07-04\n",
      "일주일 후 :  2025-07-11\n"
     ]
    }
   ],
   "source": [
    "week = datetime.timedelta(weeks=1) #일주일 기간의 마이크로 초\n",
    "next_week = today + week\n",
    "print(\"오늘 : \",today)\n",
    "print(\"일주일 후 : \", next_week)"
   ]
  },
  {
   "cell_type": "code",
   "execution_count": 6,
   "id": "9b78c3cd",
   "metadata": {},
   "outputs": [
    {
     "name": "stdout",
     "output_type": "stream",
     "text": [
      "2025년\n",
      "7월\n",
      "4일\n",
      "11시\n",
      "20분\n",
      "55초\n",
      "2025/07/04 11:20:55\n"
     ]
    }
   ],
   "source": [
    "#현재의 날짜와 시간 구하기\n",
    "from datetime import datetime #datetime 모듈의 datetime 객체를 불러옴\n",
    "\n",
    "today = datetime.now()\n",
    "print(\"%s년\" % today.year)\n",
    "print(\"%s월\" % today.month)\n",
    "print(\"%s일\" % today.day)\n",
    "print(\"%s시\" % today.hour)\n",
    "print(\"%s분\" % today.minute)\n",
    "print(\"%s초\" % today.second)\n",
    "\n",
    "string = today.strftime(\"%Y/%m/%d %H:%M:%S\")\n",
    "print(string)\n"
   ]
  },
  {
   "cell_type": "code",
   "execution_count": 7,
   "id": "b0c7000d",
   "metadata": {},
   "outputs": [
    {
     "name": "stdout",
     "output_type": "stream",
     "text": [
      "random() :  0.37258920920238114\n",
      "random() :  0.7643407644704622\n"
     ]
    }
   ],
   "source": [
    "\"\"\" \n",
    "random 모듈의 모듈 함수\n",
    "random.random() : 0에서 1 사이의 임의 실수를 반환함\n",
    "random.uniform() : 주어진 두 수 사이의 임의의 실수를 반환함\n",
    "random.randint() : 주어진 영역 사이의 임의의 정수를 반환함\n",
    "random.choice() : 리스트, 튜플, 문자열 등에서 임의로 선택한 요소를 반환함\n",
    "random.shuffle() : 리스트를 임의의 순서로 섞음\n",
    "\"\"\"\n",
    "import random\n",
    "\n",
    "print(\"random() : \", random.random()) #0부터 1전까지의 랜덤 수\n",
    "print(\"random() : \", random.random())"
   ]
  },
  {
   "cell_type": "code",
   "execution_count": 50,
   "id": "08f1b798",
   "metadata": {},
   "outputs": [
    {
     "name": "stdout",
     "output_type": "stream",
     "text": [
      "uniform(1,10) :  8.229099307248074\n",
      "uniform(1,10) :  2.6761071953703865\n"
     ]
    }
   ],
   "source": [
    "print(\"uniform(1,10) : \", random.uniform(1,10)) #1부터 10전까지의 랜덤 수\n",
    "print(\"uniform(1,10) : \", random.uniform(1,10))"
   ]
  },
  {
   "cell_type": "code",
   "execution_count": 36,
   "id": "9156f4dd",
   "metadata": {},
   "outputs": [
    {
     "name": "stdout",
     "output_type": "stream",
     "text": [
      "ranint(1,6) :  4\n",
      "ranint(1,6) :  4\n"
     ]
    }
   ],
   "source": [
    "print(\"ranint(1,6) : \", random.randint(1,6)) #1부터 6까지의 랜덤 수\n",
    "print(\"ranint(1,6) : \", random.randint(1,6))"
   ]
  },
  {
   "cell_type": "code",
   "execution_count": 62,
   "id": "42d4a9a7",
   "metadata": {},
   "outputs": [
    {
     "name": "stdout",
     "output_type": "stream",
     "text": [
      "choice([1,2,3,4,5,6]) :  4\n",
      "choice([1,2,3,4,5,6]) :  6\n",
      "choice('python') :  p\n",
      "choice('python') :  n\n"
     ]
    }
   ],
   "source": [
    "#random.choice()함수는 리스트,튜플,문자열의 요소 중 임의의 요소 값을 반환\n",
    "print(\"choice([1,2,3,4,5,6]) : \", random.choice([1,2,3,4,5,6]))\n",
    "print(\"choice([1,2,3,4,5,6]) : \", random.choice([1,2,3,4,5,6]))\n",
    "print(\"choice('python') : \", random.choice(\"python\"))\n",
    "print(\"choice('python') : \", random.choice(\"python\"))"
   ]
  },
  {
   "cell_type": "code",
   "execution_count": 63,
   "id": "64b37802",
   "metadata": {},
   "outputs": [
    {
     "name": "stdout",
     "output_type": "stream",
     "text": [
      "원래의 리스트 :  [15, 23, 4, 88, 7]\n",
      "순서가 변경된 리스트 :  [23, 4, 88, 7, 15]\n"
     ]
    }
   ],
   "source": [
    "list1 = [15,23,4,88,7]\n",
    "print(\"원래의 리스트 : \", list1)\n",
    "random.shuffle(list1) #list1의 순서를 섞음\n",
    "print(\"순서가 변경된 리스트 : \", list1)"
   ]
  }
 ],
 "metadata": {
  "kernelspec": {
   "display_name": "python_env",
   "language": "python",
   "name": "python3"
  },
  "language_info": {
   "codemirror_mode": {
    "name": "ipython",
    "version": 3
   },
   "file_extension": ".py",
   "mimetype": "text/x-python",
   "name": "python",
   "nbconvert_exporter": "python",
   "pygments_lexer": "ipython3",
   "version": "3.12.11"
  }
 },
 "nbformat": 4,
 "nbformat_minor": 5
}
