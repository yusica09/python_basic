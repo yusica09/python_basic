{
 "cells": [
  {
   "cell_type": "code",
   "execution_count": 5,
   "id": "4b88a224",
   "metadata": {},
   "outputs": [
    {
     "name": "stdout",
     "output_type": "stream",
     "text": [
      "빨강\n",
      "남색\n",
      "['노랑', '초록', '파랑', '남색']\n",
      "파랑\n",
      "['초록', '파랑', '남색']\n"
     ]
    }
   ],
   "source": [
    "#리스트\n",
    "colors = ['빨강','주황','노랑','초록','파랑','남색','보라']\n",
    "#           0      1     2      3     4      5      6\n",
    "print(colors[0])\n",
    "print(colors[5])\n",
    "print(colors[2:6]) #인덱스 2~5(6제외)\n",
    "print(colors[-3]) #뒤에서 3번째 요소\n",
    "print(colors[-4:-1])#뒤에서 4번째부터 뒤에서 2번째(-1제외)"
   ]
  },
  {
   "cell_type": "code",
   "execution_count": 7,
   "id": "a78c7350",
   "metadata": {},
   "outputs": [
    {
     "name": "stdout",
     "output_type": "stream",
     "text": [
      "['red', 'green', 'gold']\n",
      "<class 'list'>\n"
     ]
    }
   ],
   "source": [
    "colors2 = ['red','green','gold']\n",
    "print(colors2)\n",
    "print(type(colors2))"
   ]
  },
  {
   "cell_type": "code",
   "execution_count": 8,
   "id": "8ea94d32",
   "metadata": {},
   "outputs": [
    {
     "name": "stdout",
     "output_type": "stream",
     "text": [
      "나는 빨강을 좋아한다.\n",
      "나는 주황을 좋아한다.\n",
      "나는 노랑을 좋아한다.\n",
      "나는 초록을 좋아한다.\n",
      "나는 파랑을 좋아한다.\n",
      "나는 남색을 좋아한다.\n",
      "나는 보라을 좋아한다.\n"
     ]
    }
   ],
   "source": [
    "#반복문을 이용한 출력\n",
    "for color in colors:\n",
    "    print(\"나는 %s을 좋아한다.\" % color)"
   ]
  },
  {
   "cell_type": "code",
   "execution_count": 9,
   "id": "cdc6299b",
   "metadata": {},
   "outputs": [
    {
     "name": "stdout",
     "output_type": "stream",
     "text": [
      "나는 빨강을 좋아한다.\n",
      "나는 주황을 좋아한다.\n",
      "나는 노랑을 좋아한다.\n",
      "나는 초록을 좋아한다.\n",
      "나는 파랑을 좋아한다.\n",
      "나는 남색을 좋아한다.\n",
      "나는 보라을 좋아한다.\n"
     ]
    }
   ],
   "source": [
    "n = len(colors) #len()함수 : 리스트 길이\n",
    "for i in range(0,n): #i의 값 : 0~6\n",
    "    print(\"나는 %s을 좋아한다.\" % colors[i])"
   ]
  },
  {
   "cell_type": "code",
   "execution_count": 10,
   "id": "5cb36ee5",
   "metadata": {},
   "outputs": [
    {
     "name": "stdout",
     "output_type": "stream",
     "text": [
      "코끼리\n",
      "호랑이\n",
      "사슴\n",
      "펭귄\n",
      "여우\n"
     ]
    }
   ],
   "source": [
    "#while문에서 리스트 사용\n",
    "animals = [\"코끼리\",\"호랑이\",\"사슴\",\"펭귄\",\"여우\"]\n",
    "i=0\n",
    "while i < len(animals):\n",
    "    print(animals[i])\n",
    "    i += 1"
   ]
  },
  {
   "cell_type": "code",
   "execution_count": 1,
   "id": "92b659c3",
   "metadata": {},
   "outputs": [
    {
     "name": "stdout",
     "output_type": "stream",
     "text": [
      "['red', 'green', 'gold']\n"
     ]
    }
   ],
   "source": [
    "colors2 = ['red','green','gold']\n",
    "print(colors2)"
   ]
  },
  {
   "cell_type": "code",
   "execution_count": 2,
   "id": "4f49e86f",
   "metadata": {},
   "outputs": [
    {
     "name": "stdout",
     "output_type": "stream",
     "text": [
      "['red', 'orange', 'gold']\n"
     ]
    }
   ],
   "source": [
    "colors2[1] = 'orange' #요소 값의 수정\n",
    "print(colors2)"
   ]
  },
  {
   "cell_type": "code",
   "execution_count": 3,
   "id": "5b89a27b",
   "metadata": {},
   "outputs": [
    {
     "ename": "IndexError",
     "evalue": "list assignment index out of range",
     "output_type": "error",
     "traceback": [
      "\u001b[31m---------------------------------------------------------------------------\u001b[39m",
      "\u001b[31mIndexError\u001b[39m                                Traceback (most recent call last)",
      "\u001b[36mCell\u001b[39m\u001b[36m \u001b[39m\u001b[32mIn[3]\u001b[39m\u001b[32m, line 1\u001b[39m\n\u001b[32m----> \u001b[39m\u001b[32m1\u001b[39m \u001b[43mcolors2\u001b[49m\u001b[43m[\u001b[49m\u001b[32;43m3\u001b[39;49m\u001b[43m]\u001b[49m = \u001b[33m'\u001b[39m\u001b[33mskyblue\u001b[39m\u001b[33m'\u001b[39m \u001b[38;5;66;03m#없는 인덱스를 호출하면 오류 발생\u001b[39;00m\n",
      "\u001b[31mIndexError\u001b[39m: list assignment index out of range"
     ]
    }
   ],
   "source": [
    "colors2[3] = 'skyblue' #없는 인덱스를 호출하면 오류 발생"
   ]
  },
  {
   "cell_type": "code",
   "execution_count": 4,
   "id": "5c52d5ce",
   "metadata": {},
   "outputs": [
    {
     "name": "stdout",
     "output_type": "stream",
     "text": [
      "['red', 'orange', 'gold', 'blue']\n"
     ]
    }
   ],
   "source": [
    "# 기존의 리스트에 값을 추가\n",
    "colors2.append('blue')\n",
    "print(colors2)"
   ]
  },
  {
   "cell_type": "code",
   "execution_count": 5,
   "id": "8daef972",
   "metadata": {},
   "outputs": [
    {
     "name": "stdout",
     "output_type": "stream",
     "text": [
      "['red', 'black', 'orange', 'gold', 'blue']\n"
     ]
    }
   ],
   "source": [
    "#원하는 위치에 값 추가\n",
    "colors2.insert(1,'black')\n",
    "print(colors2)"
   ]
  },
  {
   "cell_type": "code",
   "execution_count": 6,
   "id": "f2648c50",
   "metadata": {},
   "outputs": [
    {
     "name": "stdout",
     "output_type": "stream",
     "text": [
      "['red', 'black', 'orange', 'gold', 'blue', 'white', 'gray']\n"
     ]
    }
   ],
   "source": [
    "#extend()메서드를 이용하면 튜플이나 리스트 등의 여러 값들을\n",
    "#한 번에 삽입\n",
    "colors2.extend(['white','gray'])\n",
    "print(colors2)"
   ]
  },
  {
   "cell_type": "code",
   "execution_count": 7,
   "id": "5f987548",
   "metadata": {},
   "outputs": [
    {
     "ename": "ValueError",
     "evalue": "'orange' is not in list",
     "output_type": "error",
     "traceback": [
      "\u001b[31m---------------------------------------------------------------------------\u001b[39m",
      "\u001b[31mValueError\u001b[39m                                Traceback (most recent call last)",
      "\u001b[36mCell\u001b[39m\u001b[36m \u001b[39m\u001b[32mIn[7]\u001b[39m\u001b[32m, line 3\u001b[39m\n\u001b[32m      1\u001b[39m colors = [\u001b[33m'\u001b[39m\u001b[33mred\u001b[39m\u001b[33m'\u001b[39m,\u001b[33m'\u001b[39m\u001b[33mblack\u001b[39m\u001b[33m'\u001b[39m,\u001b[33m'\u001b[39m\u001b[33mgreen\u001b[39m\u001b[33m'\u001b[39m,\u001b[33m'\u001b[39m\u001b[33mred\u001b[39m\u001b[33m'\u001b[39m,\u001b[33m'\u001b[39m\u001b[33mblue\u001b[39m\u001b[33m'\u001b[39m,\u001b[33m'\u001b[39m\u001b[33mwhite\u001b[39m\u001b[33m'\u001b[39m,\u001b[33m'\u001b[39m\u001b[33mgray\u001b[39m\u001b[33m'\u001b[39m]\n\u001b[32m      2\u001b[39m \u001b[38;5;66;03m#지정한 값이 검색되지 않으면 오류 발생\u001b[39;00m\n\u001b[32m----> \u001b[39m\u001b[32m3\u001b[39m \u001b[38;5;28mprint\u001b[39m(\u001b[43mcolors\u001b[49m\u001b[43m.\u001b[49m\u001b[43mindex\u001b[49m\u001b[43m(\u001b[49m\u001b[33;43m'\u001b[39;49m\u001b[33;43morange\u001b[39;49m\u001b[33;43m'\u001b[39;49m\u001b[43m)\u001b[49m)\n",
      "\u001b[31mValueError\u001b[39m: 'orange' is not in list"
     ]
    }
   ],
   "source": [
    "colors = ['red','black','green','red','blue','white','gray']\n",
    "#지정한 값이 검색되지 않으면 오류 발생\n",
    "print(colors.index('orange'))"
   ]
  },
  {
   "cell_type": "code",
   "execution_count": 9,
   "id": "a52e672a",
   "metadata": {},
   "outputs": [
    {
     "name": "stdout",
     "output_type": "stream",
     "text": [
      "3\n"
     ]
    }
   ],
   "source": [
    "#시작점 지정\n",
    "print(colors.index('red',1))"
   ]
  },
  {
   "cell_type": "code",
   "execution_count": 10,
   "id": "6ebeab8d",
   "metadata": {},
   "outputs": [
    {
     "name": "stdout",
     "output_type": "stream",
     "text": [
      "3\n"
     ]
    }
   ],
   "source": [
    "#시작점과 마찬가지로 세 번째 인자로 종결점을 정할 수 있음\n",
    "print(colors.index('red',1,5)) #검색 구간은 1~4"
   ]
  },
  {
   "cell_type": "code",
   "execution_count": 11,
   "id": "215cde3e",
   "metadata": {},
   "outputs": [
    {
     "name": "stdout",
     "output_type": "stream",
     "text": [
      "['홍길동', '박문수', '장영실']\n"
     ]
    }
   ],
   "source": [
    "member = [\"홍길동\",\"박문수\",\"장영실\"]\n",
    "print(member)"
   ]
  },
  {
   "cell_type": "code",
   "execution_count": 12,
   "id": "e7229592",
   "metadata": {},
   "outputs": [
    {
     "name": "stdout",
     "output_type": "stream",
     "text": [
      "['홍길동', '장영실']\n"
     ]
    }
   ],
   "source": [
    "member.remove(\"박문수\") #박문수의 값을 가진 요소 삭제, index를 지정할 수 없음\n",
    "print(member)"
   ]
  },
  {
   "cell_type": "code",
   "execution_count": 13,
   "id": "027b1bfc",
   "metadata": {},
   "outputs": [
    {
     "name": "stdout",
     "output_type": "stream",
     "text": [
      "[10, 20, 30, 40, 50, 60, 70, 80]\n"
     ]
    }
   ],
   "source": [
    "data = [10,20,30,40,50,60,70,80]\n",
    "print(data)"
   ]
  },
  {
   "cell_type": "code",
   "execution_count": 14,
   "id": "c8c641f0",
   "metadata": {},
   "outputs": [
    {
     "name": "stdout",
     "output_type": "stream",
     "text": [
      "30\n",
      "[10, 20, 40, 50, 60, 70, 80]\n"
     ]
    }
   ],
   "source": [
    "x = data.pop(2) #인덱스를 지정해서 삭제, 삭제하는 데이터 반환\n",
    "print(x)\n",
    "print(data)"
   ]
  },
  {
   "cell_type": "code",
   "execution_count": 15,
   "id": "c310848a",
   "metadata": {},
   "outputs": [
    {
     "name": "stdout",
     "output_type": "stream",
     "text": [
      "50\n",
      "[10, 20, 40, 60, 70, 80]\n"
     ]
    }
   ],
   "source": [
    "x = data.pop(3)\n",
    "print(x)\n",
    "print(data)"
   ]
  },
  {
   "cell_type": "code",
   "execution_count": 18,
   "id": "57af3722",
   "metadata": {},
   "outputs": [
    {
     "name": "stdout",
     "output_type": "stream",
     "text": [
      "40\n",
      "20\n",
      "[10]\n"
     ]
    }
   ],
   "source": [
    "#pop(): 메서드의 입력인자를 생략하면 뒤에서 값을 뽑아냄,\n",
    "#뽑아낸 데이터는 리스트에서 삭제됨\n",
    "print(data.pop())\n",
    "print(data.pop())\n",
    "print(data)"
   ]
  },
  {
   "cell_type": "code",
   "execution_count": 19,
   "id": "a1761b21",
   "metadata": {},
   "outputs": [
    {
     "name": "stdout",
     "output_type": "stream",
     "text": [
      "[]\n"
     ]
    }
   ],
   "source": [
    "data.clear() #리스트의 모든 요소 삭제\n",
    "print(data)"
   ]
  },
  {
   "cell_type": "code",
   "execution_count": 20,
   "id": "e6713a80",
   "metadata": {},
   "outputs": [
    {
     "name": "stdout",
     "output_type": "stream",
     "text": [
      "['kim', 24, 'student', 'lee', 26, 'teacher']\n"
     ]
    }
   ],
   "source": [
    "person1 = [\"kim\",24,\"student\"]\n",
    "person2 = [\"lee\",26,\"teacher\"]\n",
    "person = person1 + person2 #두 리스트 합치기\n",
    "print(person)"
   ]
  }
 ],
 "metadata": {
  "kernelspec": {
   "display_name": "python_env",
   "language": "python",
   "name": "python3"
  },
  "language_info": {
   "codemirror_mode": {
    "name": "ipython",
    "version": 3
   },
   "file_extension": ".py",
   "mimetype": "text/x-python",
   "name": "python",
   "nbconvert_exporter": "python",
   "pygments_lexer": "ipython3",
   "version": "3.12.11"
  }
 },
 "nbformat": 4,
 "nbformat_minor": 5
}
