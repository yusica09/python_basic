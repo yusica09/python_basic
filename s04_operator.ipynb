{
 "cells": [
  {
   "cell_type": "code",
   "execution_count": 5,
   "id": "67e75c90",
   "metadata": {},
   "outputs": [
    {
     "name": "stdout",
     "output_type": "stream",
     "text": [
      "11\n",
      "500\n",
      "3.75\n",
      "3\n",
      "1\n"
     ]
    }
   ],
   "source": [
    "#사칙연산자 : +,-,*,/\n",
    "\n",
    "a = 5 + 3 * 2\n",
    "print(a)\n",
    "\n",
    "b = (2 + 3) * 100\n",
    "print(b)\n",
    "\n",
    "c = 15/4 #나눗셈\n",
    "print(c)\n",
    "\n",
    "d = 15//4 #소수점 절삭 연산자\n",
    "print(d)\n",
    "\n",
    "e = 10%3 #나머지 연산자\n",
    "print(e)\n"
   ]
  },
  {
   "cell_type": "code",
   "execution_count": 9,
   "id": "2ff37a0f",
   "metadata": {},
   "outputs": [
    {
     "name": "stdout",
     "output_type": "stream",
     "text": [
      "3\n",
      "4\n",
      "2\n",
      "27\n"
     ]
    }
   ],
   "source": [
    "#대입연산자\n",
    "a = 3\n",
    "print(a)\n",
    "#복합대입연산자\n",
    "a += 1\n",
    "print(a)\n",
    "\n",
    "a -= 2\n",
    "print(a)\n",
    "\n",
    "# ** 거듭제곱\n",
    "print(3 ** 3)"
   ]
  },
  {
   "cell_type": "code",
   "execution_count": 11,
   "id": "cba753c0",
   "metadata": {},
   "outputs": [
    {
     "name": "stdout",
     "output_type": "stream",
     "text": [
      "False\n",
      "True\n"
     ]
    }
   ],
   "source": [
    "# && -> and, || -> or\n",
    "\n",
    "f = 10\n",
    "g = 20\n",
    "#선조건이 False 이기 때문에 후조건 실행하지 않음\n",
    "print(f > g and f/0) \n",
    "#True이기 때문에 후조건 실행하지 않음\n",
    "print(f < g or f/0)"
   ]
  },
  {
   "cell_type": "code",
   "execution_count": null,
   "id": "cef9f687",
   "metadata": {},
   "outputs": [
    {
     "ename": "ZeroDivisionError",
     "evalue": "division by zero",
     "output_type": "error",
     "traceback": [
      "\u001b[31m---------------------------------------------------------------------------\u001b[39m",
      "\u001b[31mZeroDivisionError\u001b[39m                         Traceback (most recent call last)",
      "\u001b[36mCell\u001b[39m\u001b[36m \u001b[39m\u001b[32mIn[12]\u001b[39m\u001b[32m, line 1\u001b[39m\n\u001b[32m----> \u001b[39m\u001b[32m1\u001b[39m \u001b[38;5;28mprint\u001b[39m(f > g & \u001b[43mf\u001b[49m\u001b[43m/\u001b[49m\u001b[32;43m0\u001b[39;49m)\n",
      "\u001b[31mZeroDivisionError\u001b[39m: division by zero"
     ]
    }
   ],
   "source": [
    "#선조건이 False 이지만 후조건을 실행해서 오류 발생\n",
    "print(f > g & f/0)"
   ]
  },
  {
   "cell_type": "code",
   "execution_count": null,
   "id": "e9e23803",
   "metadata": {},
   "outputs": [
    {
     "ename": "ZeroDivisionError",
     "evalue": "division by zero",
     "output_type": "error",
     "traceback": [
      "\u001b[31m---------------------------------------------------------------------------\u001b[39m",
      "\u001b[31mZeroDivisionError\u001b[39m                         Traceback (most recent call last)",
      "\u001b[36mCell\u001b[39m\u001b[36m \u001b[39m\u001b[32mIn[13]\u001b[39m\u001b[32m, line 1\u001b[39m\n\u001b[32m----> \u001b[39m\u001b[32m1\u001b[39m \u001b[38;5;28mprint\u001b[39m(f < g | \u001b[43mf\u001b[49m\u001b[43m/\u001b[49m\u001b[32;43m0\u001b[39;49m)\n",
      "\u001b[31mZeroDivisionError\u001b[39m: division by zero"
     ]
    }
   ],
   "source": [
    "#선조건이 True이지만 후조건을 실행해서 오류 발\n",
    "print(f < g | f/0)"
   ]
  }
 ],
 "metadata": {
  "kernelspec": {
   "display_name": "python_env",
   "language": "python",
   "name": "python3"
  },
  "language_info": {
   "codemirror_mode": {
    "name": "ipython",
    "version": 3
   },
   "file_extension": ".py",
   "mimetype": "text/x-python",
   "name": "python",
   "nbconvert_exporter": "python",
   "pygments_lexer": "ipython3",
   "version": "3.12.11"
  }
 },
 "nbformat": 4,
 "nbformat_minor": 5
}
