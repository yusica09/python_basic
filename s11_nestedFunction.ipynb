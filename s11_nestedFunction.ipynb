{
 "cells": [
  {
   "cell_type": "code",
   "execution_count": 1,
   "id": "7e8c2e87",
   "metadata": {},
   "outputs": [
    {
     "name": "stdout",
     "output_type": "stream",
     "text": [
      "아스키 코드 :  49\n"
     ]
    }
   ],
   "source": [
    "#아스키 코드 구하기\n",
    "x = \"1\"\n",
    "print(\"아스키 코드 : \", ord(x))"
   ]
  },
  {
   "cell_type": "code",
   "execution_count": 4,
   "id": "f7536685",
   "metadata": {},
   "outputs": [
    {
     "name": "stdout",
     "output_type": "stream",
     "text": [
      "아스키 코드(10진수) : 97\n",
      "아스키 코드(16진수) : 0x61\n",
      "아스키 코드(2진수) : 0b1100001\n"
     ]
    }
   ],
   "source": [
    "y = \"a\"\n",
    "print(\"아스키 코드(10진수) : %d\" % ord(y))\n",
    "print(\"아스키 코드(16진수) : %s\" % hex(ord(y)))\n",
    "print(\"아스키 코드(2진수) : %s\" % bin(ord(y)))"
   ]
  },
  {
   "cell_type": "code",
   "execution_count": 6,
   "id": "b9dece89",
   "metadata": {},
   "outputs": [
    {
     "name": "stdout",
     "output_type": "stream",
     "text": [
      "8\n",
      "7.66\n"
     ]
    }
   ],
   "source": [
    "#반올림 값 구하기\n",
    "x = round(7.65676)\n",
    "print(x)\n",
    "\n",
    "#반올림 값 구하기(특정 소수점 자리에서 반올림)\n",
    "x = round(7.65676,2)\n",
    "print(x)"
   ]
  },
  {
   "cell_type": "code",
   "execution_count": 8,
   "id": "ce1d4c4d",
   "metadata": {},
   "outputs": [
    {
     "name": "stdout",
     "output_type": "stream",
     "text": [
      "5\n",
      "12\n"
     ]
    }
   ],
   "source": [
    "#최대값/최소값 구하기\n",
    "x = max(3,5,2)\n",
    "print(x)\n",
    "\n",
    "data = [3,7,12,6]\n",
    "y = max(data) #리스트 요소 중 최대값\n",
    "print(y)"
   ]
  },
  {
   "cell_type": "code",
   "execution_count": 9,
   "id": "f99fe997",
   "metadata": {},
   "outputs": [
    {
     "name": "stdout",
     "output_type": "stream",
     "text": [
      "3\n",
      "3\n",
      "1.2\n"
     ]
    }
   ],
   "source": [
    "#절대값\n",
    "print(abs(3))\n",
    "print(abs(-3))\n",
    "print(abs(-1.2))"
   ]
  },
  {
   "cell_type": "code",
   "execution_count": 10,
   "id": "0c9dab8b",
   "metadata": {},
   "outputs": [
    {
     "name": "stdout",
     "output_type": "stream",
     "text": [
      "(2, 1)\n",
      "(6.0, 0.09999999999999998)\n"
     ]
    }
   ],
   "source": [
    "#2개 숫자를 입력 받아서 a를 b로 나눈 몫과 나머지를 튜플 형태로 반환\n",
    "print(divmod(7,3))\n",
    "print(divmod(1.3,0.2))"
   ]
  },
  {
   "cell_type": "code",
   "execution_count": 11,
   "id": "131fb34e",
   "metadata": {},
   "outputs": [
    {
     "name": "stdout",
     "output_type": "stream",
     "text": [
      "0 body\n",
      "1 foo\n",
      "2 bar\n"
     ]
    }
   ],
   "source": [
    "#순서가 있는 자료형(리스트,튜플,문자열)을 입력으로 받아\n",
    "#인덱스 값을 포함하는 enumerate 객체 반환\n",
    "for i, name in enumerate(['body','foo','bar']):\n",
    "    print(i,name)"
   ]
  },
  {
   "cell_type": "code",
   "execution_count": 14,
   "id": "698bcdbf",
   "metadata": {},
   "outputs": [
    {
     "name": "stdout",
     "output_type": "stream",
     "text": [
      "3\n",
      "hia\n",
      "(1, 1)\n"
     ]
    }
   ],
   "source": [
    "#실행 가능한 문자열(1+2,'hi'+'a' 같은 것)을 입력으로 받아\n",
    "#문자열을 실행한 결과값을 리턴\n",
    "print(eval('1+2'))\n",
    "print(eval(\"'hi' + 'a'\"))\n",
    "print(eval('divmod(4,3)'))"
   ]
  },
  {
   "cell_type": "code",
   "execution_count": 17,
   "id": "8573237c",
   "metadata": {},
   "outputs": [
    {
     "name": "stdout",
     "output_type": "stream",
     "text": [
      "3\n",
      "3\n",
      "y\n",
      "----------\n",
      "1\n",
      "1\n",
      "h\n"
     ]
    }
   ],
   "source": [
    "print(max(1,2,3))\n",
    "print(max([1,2,3]))\n",
    "print(max(\"python\"))\n",
    "\n",
    "print('-' * 10)\n",
    "\n",
    "print(min(1,2,3))\n",
    "print(min([1,2,3]))\n",
    "print(min(\"python\"))"
   ]
  },
  {
   "cell_type": "code",
   "execution_count": 21,
   "id": "efba30b9",
   "metadata": {},
   "outputs": [
    {
     "name": "stdout",
     "output_type": "stream",
     "text": [
      "[1, 2, 3]\n",
      "[3, 2, 1]\n",
      "['a', 'b', 'c']\n",
      "['e', 'o', 'r', 'z']\n"
     ]
    }
   ],
   "source": [
    "#sorted()함수는 입력값을 정렬한 후 그 결과를 리스트로 반환\n",
    "print(sorted([3,1,2]))\n",
    "print(sorted([3,1,2],reverse=True))\n",
    "print(sorted(['a','c','b']))\n",
    "print(sorted('zero'))"
   ]
  },
  {
   "cell_type": "code",
   "execution_count": 1,
   "id": "b79e23c6",
   "metadata": {},
   "outputs": [
    {
     "name": "stdout",
     "output_type": "stream",
     "text": [
      "3\n",
      "hi\n",
      "HI\n"
     ]
    }
   ],
   "source": [
    "#str()은 문자열 형태로 객체를 반환\n",
    "print(str(3)) # '3'\n",
    "print(str('hi')) # 'hi'\n",
    "print(str('hi'.upper())) #'HI'"
   ]
  },
  {
   "cell_type": "code",
   "execution_count": 2,
   "id": "580d0a3f",
   "metadata": {},
   "outputs": [
    {
     "name": "stdout",
     "output_type": "stream",
     "text": [
      "['a', 'b', 'c']\n",
      "[1, 2, 3]\n",
      "[1, 2, 3]\n"
     ]
    }
   ],
   "source": [
    "#리스트 생성\n",
    "print(list(\"abc\"))\n",
    "print(list((1,2,3)))\n",
    "print(list([1,2,3]))"
   ]
  },
  {
   "cell_type": "code",
   "execution_count": 3,
   "id": "4f794e8e",
   "metadata": {},
   "outputs": [
    {
     "name": "stdout",
     "output_type": "stream",
     "text": [
      "('a', 'b', 'c')\n",
      "(1, 2, 3)\n",
      "(1, 2, 3)\n"
     ]
    }
   ],
   "source": [
    "#tuple()은 반복 가능한 자료형을 입력받아 튜플 형태로 바꾸어 반환\n",
    "print(tuple(\"abc\"))\n",
    "print(tuple([1,2,3]))\n",
    "print(tuple((1,2,3)))"
   ]
  },
  {
   "cell_type": "code",
   "execution_count": 4,
   "id": "7769641d",
   "metadata": {},
   "outputs": [
    {
     "name": "stdout",
     "output_type": "stream",
     "text": [
      "<class 'str'>\n",
      "<class 'list'>\n",
      "<_io.TextIOWrapper name='test' mode='w' encoding='utf-8'>\n"
     ]
    }
   ],
   "source": [
    "#type()은 입력값의 자료형이 무엇인지 알려주는 함수\n",
    "print(type(\"abc\"))\n",
    "print(type([]))\n",
    "print(open(\"test\",\"w\"))"
   ]
  },
  {
   "cell_type": "code",
   "execution_count": 7,
   "id": "a029c6b6",
   "metadata": {},
   "outputs": [
    {
     "name": "stdout",
     "output_type": "stream",
     "text": [
      "[(1, 4), (2, 5), (3, 6)]\n",
      "[(1, 4, 7), (2, 5, 8), (3, 6, 9)]\n",
      "[('a', 'd'), ('b', 'e'), ('c', 'f')]\n"
     ]
    }
   ],
   "source": [
    "#zip()은 동일한 개수로 이루어진 자료형을 묶어 주는 역할을 하는 함수\n",
    "print(list(zip([1,2,3],[4,5,6])))\n",
    "print(list(zip([1,2,3],[4,5,6],[7,8,9])))\n",
    "print(list(zip(\"abc\",\"def\")))"
   ]
  },
  {
   "cell_type": "code",
   "execution_count": null,
   "id": "46acfe35",
   "metadata": {},
   "outputs": [],
   "source": [
    "#아스키(ASCII) 코드값을 입력으로 받아서 그 코드에 해당하는 문자 출력\n",
    "print(chr(97))\n",
    "print(chr(48))"
   ]
  },
  {
   "cell_type": "code",
   "execution_count": 8,
   "id": "35e1e1bb",
   "metadata": {},
   "outputs": [
    {
     "name": "stdout",
     "output_type": "stream",
     "text": [
      "16\n",
      "27\n"
     ]
    }
   ],
   "source": [
    "#pow(x,y)는 x의 y 제곱한 결과값을 반환\n",
    "print(pow(2,4))\n",
    "print(pow(3,3))"
   ]
  }
 ],
 "metadata": {
  "kernelspec": {
   "display_name": "python_env",
   "language": "python",
   "name": "python3"
  },
  "language_info": {
   "codemirror_mode": {
    "name": "ipython",
    "version": 3
   },
   "file_extension": ".py",
   "mimetype": "text/x-python",
   "name": "python",
   "nbconvert_exporter": "python",
   "pygments_lexer": "ipython3",
   "version": "3.12.11"
  }
 },
 "nbformat": 4,
 "nbformat_minor": 5
}
