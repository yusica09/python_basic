{
 "cells": [
  {
   "cell_type": "code",
   "execution_count": 3,
   "id": "2e9fc540",
   "metadata": {},
   "outputs": [
    {
     "name": "stdout",
     "output_type": "stream",
     "text": [
      "홍길동님 안녕하세요.\n",
      "박문수님 반갑습니다.\n",
      "<hello.Service object at 0x000002A8260239E0>\n"
     ]
    }
   ],
   "source": [
    "#모듈\n",
    "#파이썬 모듈에서는 프로그램에서 공통적으로 사용되는 함수들을 모아서 별도의 파일에\n",
    "#저장하는 기능을 제공\n",
    "\n",
    "#모듈은 여러 변수와 함수를 가지고 있는 집합체로, 크게 표준 모듈과 외부 모듈로 나눔\n",
    "#파이썬에 기본적으로 내장되어 있는 모듈을 '표준 모듈'이라고 부르고, 다른 사람들이\n",
    "#만들어서 공개한 모듈을 '외부 모듈'이라고 부른다.\n",
    "\n",
    "#모듈을 생성하고 불러오기\n",
    "import hello\n",
    "\n",
    "hello.greet1(\"홍길동\")\n",
    "hello.greet2(\"박문수\")\n",
    "\n",
    "#클래스도 모듈화 가능\n",
    "pey = hello.Service()\n",
    "print(pey)"
   ]
  },
  {
   "cell_type": "code",
   "execution_count": 4,
   "id": "52a2b03a",
   "metadata": {},
   "outputs": [
    {
     "name": "stdout",
     "output_type": "stream",
     "text": [
      "ceil(12.3): 13\n",
      "ceil(-25.8): -25\n"
     ]
    }
   ],
   "source": [
    "import math\n",
    "\n",
    "#올림\n",
    "print(\"ceil(12.3):\",math.ceil(12.3))\n",
    "print(\"ceil(-25.8):\",math.ceil(-25.8))"
   ]
  },
  {
   "cell_type": "code",
   "execution_count": 5,
   "id": "67862e98",
   "metadata": {},
   "outputs": [
    {
     "name": "stdout",
     "output_type": "stream",
     "text": [
      "floor(12.7): 12\n",
      "floor(-25.2): -26\n"
     ]
    }
   ],
   "source": [
    "#버림(절삭)\n",
    "print(\"floor(12.7):\",math.floor(12.7))\n",
    "print(\"floor(-25.2):\",math.floor(-25.2))"
   ]
  },
  {
   "cell_type": "code",
   "execution_count": 6,
   "id": "6f524eed",
   "metadata": {},
   "outputs": [
    {
     "name": "stdout",
     "output_type": "stream",
     "text": [
      "round(12.756): 13\n",
      "round(12.756): 12.76\n",
      "round(-25.7): -26\n"
     ]
    }
   ],
   "source": [
    "#round함수는 math 모듈에 있는 함수가 아닌 파이썬 자체의 내장 함수\n",
    "print(\"round(12.756):\",round(12.756))\n",
    "print(\"round(12.756):\",round(12.756,2))\n",
    "print(\"round(-25.7):\",round(-25.7))"
   ]
  },
  {
   "cell_type": "code",
   "execution_count": 7,
   "id": "2af6c15f",
   "metadata": {},
   "outputs": [
    {
     "name": "stdout",
     "output_type": "stream",
     "text": [
      "15.0\n"
     ]
    }
   ],
   "source": [
    "#합계 데이터를 실수형으로 반환\n",
    "print(math.fsum([1,2,3,4,5]))"
   ]
  },
  {
   "cell_type": "code",
   "execution_count": 8,
   "id": "5beaac35",
   "metadata": {},
   "outputs": [
    {
     "name": "stdout",
     "output_type": "stream",
     "text": [
      "1751592533.2463732\n"
     ]
    }
   ],
   "source": [
    "import time\n",
    "\n",
    "seconds = time.time() #타임스탬프 시간\n",
    "print(seconds)"
   ]
  },
  {
   "cell_type": "code",
   "execution_count": 10,
   "id": "c6dd6ed4",
   "metadata": {},
   "outputs": [
    {
     "name": "stdout",
     "output_type": "stream",
     "text": [
      "time.struct_time(tm_year=2025, tm_mon=7, tm_mday=4, tm_hour=1, tm_min=28, tm_sec=53, tm_wday=4, tm_yday=185, tm_isdst=0)\n",
      "년 :  2025\n",
      "월 :  7\n",
      "일 :  4\n",
      "시 :  1\n",
      "분 :  28\n",
      "초 :  53\n"
     ]
    }
   ],
   "source": [
    "te = time.gmtime(seconds) #GMT 기준 기간\n",
    "print(te)\n",
    "print(\"년 : \",te.tm_year)\n",
    "print(\"월 : \",te.tm_mon)\n",
    "print(\"일 : \",te.tm_mday)\n",
    "print(\"시 : \",te.tm_hour)\n",
    "print(\"분 : \",te.tm_min)\n",
    "print(\"초 : \",te.tm_sec)"
   ]
  },
  {
   "cell_type": "code",
   "execution_count": 12,
   "id": "0bcac64a",
   "metadata": {},
   "outputs": [
    {
     "name": "stdout",
     "output_type": "stream",
     "text": [
      "time.struct_time(tm_year=2025, tm_mon=7, tm_mday=4, tm_hour=10, tm_min=28, tm_sec=53, tm_wday=4, tm_yday=185, tm_isdst=0)\n",
      "년 :  2025\n",
      "월 :  7\n",
      "일 :  4\n",
      "시 :  10\n",
      "분 :  28\n",
      "초 :  53\n"
     ]
    }
   ],
   "source": [
    "tm = time.localtime(seconds) #현지 시간(Local Time)\n",
    "print(tm)\n",
    "print(\"년 : \",tm.tm_year)\n",
    "print(\"월 : \",tm.tm_mon)\n",
    "print(\"일 : \",tm.tm_mday)\n",
    "print(\"시 : \",tm.tm_hour)\n",
    "print(\"분 : \",tm.tm_min)\n",
    "print(\"초 : \",tm.tm_sec)\n"
   ]
  },
  {
   "cell_type": "code",
   "execution_count": 13,
   "id": "32188e74",
   "metadata": {},
   "outputs": [
    {
     "name": "stdout",
     "output_type": "stream",
     "text": [
      "Fri Jul  4 10:28:53 2025\n"
     ]
    }
   ],
   "source": [
    "#타임스탬프를 문자열로 변환하기\n",
    "string = time.ctime(seconds)\n",
    "print(string)"
   ]
  },
  {
   "cell_type": "code",
   "execution_count": 14,
   "id": "2a19efc8",
   "metadata": {},
   "outputs": [
    {
     "name": "stdout",
     "output_type": "stream",
     "text": [
      "2025-07-04 10:28:53 AM\n"
     ]
    }
   ],
   "source": [
    "#시간을 특정 포맷으로 변환\n",
    "\"\"\"\n",
    "포맷 기호           의미\n",
    "%Y              네 자리 연도\n",
    "%y              두 자리 연도\n",
    "%m              월\n",
    "%d              일\n",
    "%A              요일     Sunday,Monday,.....Saturday\n",
    "%a              간략 요일  Sun,Mon...Sat\n",
    "%H              시(24시)   0 ~ 23\n",
    "%I              시(12시)   1 ~ 12\n",
    "%p              AM 또는 PM\n",
    "%M              분\n",
    "\"\"\"\n",
    "string2 = time.strftime(\"%Y-%m-%d %I:%M:%S %p\",tm)\n",
    "print(string2)"
   ]
  },
  {
   "cell_type": "code",
   "execution_count": 16,
   "id": "dff03da8",
   "metadata": {},
   "outputs": [
    {
     "name": "stdout",
     "output_type": "stream",
     "text": [
      "시작\n",
      "5초 후 나타남!\n"
     ]
    }
   ],
   "source": [
    "print(\"시작\")\n",
    "time.sleep(5) #5초간 컴퓨터 실행 멈춤\n",
    "print(\"5초 후 나타남!\")"
   ]
  },
  {
   "cell_type": "code",
   "execution_count": 17,
   "id": "7dae8808",
   "metadata": {},
   "outputs": [
    {
     "name": "stdout",
     "output_type": "stream",
     "text": [
      "소요시간: 0.039000511169433594\n"
     ]
    }
   ],
   "source": [
    "def func():\n",
    "    sum = 0\n",
    "    for i in range(1,1000001):\n",
    "        sum = sum + i\n",
    "\n",
    "start = time.time()\n",
    "func()\n",
    "end = time.time()\n",
    "print(\"소요시간:\",end-start)"
   ]
  }
 ],
 "metadata": {
  "kernelspec": {
   "display_name": "python_env",
   "language": "python",
   "name": "python3"
  },
  "language_info": {
   "codemirror_mode": {
    "name": "ipython",
    "version": 3
   },
   "file_extension": ".py",
   "mimetype": "text/x-python",
   "name": "python",
   "nbconvert_exporter": "python",
   "pygments_lexer": "ipython3",
   "version": "3.12.11"
  }
 },
 "nbformat": 4,
 "nbformat_minor": 5
}
