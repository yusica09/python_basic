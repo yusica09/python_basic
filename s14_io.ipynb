{
 "cells": [
  {
   "cell_type": "code",
   "execution_count": 5,
   "id": "61fd7cf7",
   "metadata": {},
   "outputs": [
    {
     "name": "stdout",
     "output_type": "stream",
     "text": [
      "파일 쓰기 완료!\n"
     ]
    }
   ],
   "source": [
    "#텍스트 파일에 데이터 저장하기 \n",
    "#기존에 파일이 존재하고 데이터 있으면 전부 지우고 다시 처음부터 기재함\n",
    "#기존에 파일이 없으면 새로 생성해서 내용을 기재\n",
    "#파일 객체 = open(파일명,파일모드,인코딩)\n",
    "#파일 모드    의미\n",
    "#  r        읽기 모드, 파일을 읽을 때 사용\n",
    "#  w        쓰기 모드, 파일에 데이터를 저장할 때 사용\n",
    "#           *파일이 존재하지 않으면 새로운 파일을 생성하고,\n",
    "#            해당 파일이 존재하면 기존 파일에 덮어씀\n",
    "#  a        추가 모드, 기존에 파일에 데이터를 추가할 때 사용\n",
    "\n",
    "f = open(\"files/new_file.txt\",\"w\",encoding=\"utf-8\")\n",
    "names = [\"홍길동\",\"박문수\",\"김유신\",\"이순신\"]\n",
    "\n",
    "for name in names:\n",
    "    f.write(name + \"\\n\")\n",
    "\n",
    "print(\"파일 쓰기 완료!\")\n",
    "f.close()"
   ]
  },
  {
   "cell_type": "code",
   "execution_count": 8,
   "id": "95817e4c",
   "metadata": {},
   "outputs": [
    {
     "name": "stdout",
     "output_type": "stream",
     "text": [
      "파일에 데이터 추가 완료!\n"
     ]
    }
   ],
   "source": [
    "f = open(\"files/new_file.txt\",\"a\",encoding=\"utf-8\")\n",
    "names = [\"장영실\",\"강호동\"]\n",
    "\n",
    "for name in names:\n",
    "    f.write(name +\"\\n\")\n",
    "\n",
    "print(\"파일에 데이터 추가 완료!\")\n",
    "f.close()"
   ]
  },
  {
   "cell_type": "code",
   "execution_count": 10,
   "id": "e9044a6e",
   "metadata": {},
   "outputs": [
    {
     "name": "stdout",
     "output_type": "stream",
     "text": [
      "['홍길동\\n', '박문수\\n', '김유신\\n', '이순신\\n', '장영실\\n', '강호동\\n', '장영실\\n', '강호동\\n', '장영실\\n', '강호동\\n']\n",
      "------------------------------\n",
      "홍길동\n",
      "박문수\n",
      "김유신\n",
      "이순신\n",
      "장영실\n",
      "강호동\n",
      "장영실\n",
      "강호동\n",
      "장영실\n",
      "강호동\n"
     ]
    }
   ],
   "source": [
    "f = open(\"files/new_file.txt\",\"r\",encoding=\"utf-8\")\n",
    "lines = f.readlines() #전체 내용을 읽어 옴.데이터형은 리스트\n",
    "print(lines)\n",
    "print('-' * 30)\n",
    "\n",
    "for line in lines:\n",
    "    temp = line.replace(\"\\n\",\"\")\n",
    "    print(temp)\n",
    "\n",
    "f.close()"
   ]
  },
  {
   "cell_type": "code",
   "execution_count": 11,
   "id": "b5261114",
   "metadata": {},
   "outputs": [
    {
     "name": "stdout",
     "output_type": "stream",
     "text": [
      "홍길동\n",
      "박문수\n",
      "김유신\n",
      "이순신\n",
      "장영실\n",
      "강호동\n",
      "장영실\n",
      "강호동\n",
      "장영실\n",
      "강호동\n"
     ]
    }
   ],
   "source": [
    "with open(\"files/new_file.txt\",\"r\",encoding=\"utf-8\") as f:\n",
    "    for line in f:\n",
    "        temp = line.replace(\"\\n\",\"\")\n",
    "        print(temp)\n",
    "f.close()"
   ]
  },
  {
   "cell_type": "code",
   "execution_count": 12,
   "id": "19027484",
   "metadata": {},
   "outputs": [
    {
     "name": "stdout",
     "output_type": "stream",
     "text": [
      "홍길동\n",
      "박문수\n",
      "김유신\n",
      "이순신\n",
      "장영실\n",
      "강호동\n",
      "장영실\n",
      "강호동\n",
      "장영실\n",
      "강호동\n",
      "\n"
     ]
    }
   ],
   "source": [
    "f = open(\"files/new_file.txt\",\"r\",encoding=\"utf-8\")\n",
    "lines = f.read() #파일의 내용 전체를 문자열\n",
    "print(lines)\n",
    "f.close()"
   ]
  },
  {
   "cell_type": "code",
   "execution_count": 17,
   "id": "901023ce",
   "metadata": {},
   "outputs": [
    {
     "name": "stdout",
     "output_type": "stream",
     "text": [
      "15\n"
     ]
    }
   ],
   "source": [
    "#유닉스에서는 newline이 \\n으로 적용되며,윈도우에서 \\r\\n으로 적용\n",
    "#기존에 파일이 존재하고 데이터가 있으면 전부 지우고 다시 처음부터\n",
    "#기재함.\n",
    "#기존에 파일이 없으면 새로 생성해서 내용을 기재\n",
    "f = open('files/test2.txt','w',encoding=\"utf-8\")\n",
    "#write()함수를 수행하면 몇 바이트나 썼는지를 정수로 반환\n",
    "print(f.write('오늘은 월요일\\n하루를 살아도'))\n",
    "f.close()"
   ]
  },
  {
   "cell_type": "code",
   "execution_count": null,
   "id": "34fe851e",
   "metadata": {},
   "outputs": [
    {
     "name": "stdout",
     "output_type": "stream",
     "text": [
      "오늘은 월요일\n",
      "하루를 살아도\n",
      "True\n"
     ]
    }
   ],
   "source": [
    "#모드를 지정하지 않으면 텍스트 읽기 모드\n",
    "f = open('files/test2.txt',encoding=\"utf-8\")\n",
    "print(f.read())\n",
    "f.close()\n",
    "print(f.closed) #파일 객체가 성공적으로 닫혔는지 확인"
   ]
  },
  {
   "cell_type": "code",
   "execution_count": 20,
   "id": "eecb39b6",
   "metadata": {},
   "outputs": [
    {
     "name": "stdout",
     "output_type": "stream",
     "text": [
      "['안소명 97 80 93 97 93\\n', '정예린 86 100 93 86 90\\n', '김세린 91 88 99 79 92\\n', '연수정 86 100 93 89 92\\n', '박지아 80 100 93 89 90']\n"
     ]
    }
   ],
   "source": [
    "f = open(\"files/scores.txt\",\"r\",encoding=\"utf-8\")\n",
    "lines = f.readlines() #모든 라인의 데이터를 리스트로 반환\n",
    "print(lines)\n"
   ]
  },
  {
   "cell_type": "code",
   "execution_count": 22,
   "id": "a9d3b79a",
   "metadata": {},
   "outputs": [
    {
     "name": "stdout",
     "output_type": "stream",
     "text": [
      "['안소명', '97', '80', '93', '97', '93']\n",
      "안소명 : 92.00점\n",
      "['정예린', '86', '100', '93', '86', '90']\n",
      "정예린 : 91.00점\n",
      "['김세린', '91', '88', '99', '79', '92']\n",
      "김세린 : 89.80점\n",
      "['연수정', '86', '100', '93', '89', '92']\n",
      "연수정 : 92.00점\n",
      "['박지아', '80', '100', '93', '89', '90']\n",
      "박지아 : 90.40점\n"
     ]
    }
   ],
   "source": [
    "for line in lines:\n",
    "    data = line.split() #공백(스페이스,탭,엔터 등)기준으로 문자열을 잘라줌.맨 앞,맨 뒤,줄바꿈은 무시됨\n",
    "    print(data)\n",
    "    i = 0\n",
    "    sum = 0\n",
    "\n",
    "    while i <len(data):\n",
    "        if i == 0:\n",
    "            print(data[i],end=\" : \")\n",
    "        else:\n",
    "            sum = sum + int(data[i])\n",
    "        \n",
    "        i = i + 1\n",
    "\n",
    "    avg = sum/(len(data)-1)\n",
    "\n",
    "    print(\"%.2f점\" % avg)\n",
    "\n",
    "f.close()      \n"
   ]
  },
  {
   "cell_type": "code",
   "execution_count": 23,
   "id": "1cbd536d",
   "metadata": {},
   "outputs": [
    {
     "name": "stdout",
     "output_type": "stream",
     "text": [
      "파일이 존재하지 않음!\n"
     ]
    }
   ],
   "source": [
    "#파일과 폴더 삭제하기\n",
    "import os\n",
    "\n",
    "if os.path.exists(\"files/sample.txt\"):\n",
    "    os.remove(\"files/sample.txt\")\n",
    "else:\n",
    "    print(\"파일이 존재하지 않음!\")"
   ]
  },
  {
   "cell_type": "code",
   "execution_count": 24,
   "id": "85fd595b",
   "metadata": {},
   "outputs": [
    {
     "name": "stdout",
     "output_type": "stream",
     "text": [
      "폴더가 존재하지 않음!\n"
     ]
    }
   ],
   "source": [
    "import os\n",
    "\n",
    "if os.path.exists(\"files/test\"):\n",
    "    os.rmdir(\"files/test\")\n",
    "else:\n",
    "    print(\"폴더가 존재하지 않음!\")"
   ]
  }
 ],
 "metadata": {
  "kernelspec": {
   "display_name": "python_env",
   "language": "python",
   "name": "python3"
  },
  "language_info": {
   "codemirror_mode": {
    "name": "ipython",
    "version": 3
   },
   "file_extension": ".py",
   "mimetype": "text/x-python",
   "name": "python",
   "nbconvert_exporter": "python",
   "pygments_lexer": "ipython3",
   "version": "3.12.11"
  }
 },
 "nbformat": 4,
 "nbformat_minor": 5
}
