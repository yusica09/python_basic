{
 "cells": [
  {
   "cell_type": "code",
   "execution_count": 2,
   "id": "21d22bd1",
   "metadata": {},
   "outputs": [
    {
     "name": "stdout",
     "output_type": "stream",
     "text": [
      "('토끼', '거북이', '사자', '여우')\n",
      "<class 'tuple'>\n",
      "토끼\n",
      "거북이\n",
      "사자\n",
      "여우\n"
     ]
    }
   ],
   "source": [
    "#튜플에서는 리스트의 대괄호([]) 대신에 소괄호(())를 사용\n",
    "#튜플에서는 리스트와 달리 요소의 수정과 추가가 불가능함\n",
    "animals = (\"토끼\",\"거북이\",\"사자\",\"여우\")\n",
    "print(animals)\n",
    "print(type(animals))\n",
    "for i in range(len(animals)):\n",
    "    print(animals[i])"
   ]
  },
  {
   "cell_type": "code",
   "execution_count": 3,
   "id": "a1548b07",
   "metadata": {},
   "outputs": [
    {
     "name": "stdout",
     "output_type": "stream",
     "text": [
      "토끼\n"
     ]
    }
   ],
   "source": [
    "print(animals[0]) #인덱스 0번 요소의 값 출력"
   ]
  },
  {
   "cell_type": "code",
   "execution_count": null,
   "id": "95060cc0",
   "metadata": {},
   "outputs": [
    {
     "ename": "TypeError",
     "evalue": "'tuple' object does not support item assignment",
     "output_type": "error",
     "traceback": [
      "\u001b[31m---------------------------------------------------------------------------\u001b[39m",
      "\u001b[31mTypeError\u001b[39m                                 Traceback (most recent call last)",
      "\u001b[36mCell\u001b[39m\u001b[36m \u001b[39m\u001b[32mIn[4]\u001b[39m\u001b[32m, line 1\u001b[39m\n\u001b[32m----> \u001b[39m\u001b[32m1\u001b[39m \u001b[43manimals\u001b[49m\u001b[43m[\u001b[49m\u001b[32;43m2\u001b[39;49m\u001b[43m]\u001b[49m = \u001b[33m\"\u001b[39m\u001b[33m호랑이\u001b[39m\u001b[33m\"\u001b[39m \n",
      "\u001b[31mTypeError\u001b[39m: 'tuple' object does not support item assignment"
     ]
    }
   ],
   "source": [
    "animals[2] = \"호랑이\" #튜플은 요소 수정 불가능"
   ]
  },
  {
   "cell_type": "code",
   "execution_count": 5,
   "id": "13d08d62",
   "metadata": {},
   "outputs": [
    {
     "name": "stdout",
     "output_type": "stream",
     "text": [
      "(0, 1, 2, 3, 4, 5, 6, 7, 8, 9)\n"
     ]
    }
   ],
   "source": [
    "#tuple()함수를 이용한 튜플 생성, \n",
    "#range()함수를 이용한 0~9까지 숫자 생성\n",
    "numbers = tuple(range(10))\n",
    "print(numbers)"
   ]
  },
  {
   "cell_type": "code",
   "execution_count": 10,
   "id": "311d9feb",
   "metadata": {},
   "outputs": [
    {
     "name": "stdout",
     "output_type": "stream",
     "text": [
      "numbers[0] 0\n",
      "numbers[2:5] (2, 3, 4)\n",
      "numbers[2:] (2, 3, 4, 5, 6, 7, 8, 9)\n",
      "numbers[:5] (0, 1, 2, 3, 4)\n",
      "numbers[-2] 8\n"
     ]
    }
   ],
   "source": [
    "print(\"numbers[0]\",numbers[0])\n",
    "print(\"numbers[2:5]\",numbers[2:5]) #2~4\n",
    "print(\"numbers[2:]\",numbers[2:]) #2~9\n",
    "print(\"numbers[:5]\",numbers[:5]) #0~4\n",
    "print(\"numbers[-2]\",numbers[-2]) #8"
   ]
  },
  {
   "cell_type": "code",
   "execution_count": 11,
   "id": "2d90a94b",
   "metadata": {},
   "outputs": [
    {
     "name": "stdout",
     "output_type": "stream",
     "text": [
      "(10, 20, 30, 40, 50, 60)\n"
     ]
    }
   ],
   "source": [
    "tup1 = (10,20,30)\n",
    "tup2 = (40,50,60)\n",
    "tup3 = tup1 + tup2 #튜플 합치기\n",
    "print(tup3)"
   ]
  },
  {
   "cell_type": "code",
   "execution_count": 12,
   "id": "9bd944de",
   "metadata": {},
   "outputs": [
    {
     "name": "stdout",
     "output_type": "stream",
     "text": [
      "{'name': '황석영', 'age': 22, 'email': 'test@test.com'}\n",
      "<class 'dict'>\n"
     ]
    }
   ],
   "source": [
    "#딕셔너리(dictionary)\n",
    "#딕셔너리 Key와 Value를 한 쌍으로 갖는 자료형\n",
    "member = {\"name\":\"황석영\",\"age\":22,\"email\":\"test@test.com\"}\n",
    "print(member)\n",
    "print(type(member))"
   ]
  },
  {
   "cell_type": "code",
   "execution_count": 13,
   "id": "5c58cbf4",
   "metadata": {},
   "outputs": [
    {
     "name": "stdout",
     "output_type": "stream",
     "text": [
      "{'a': 1, 'b': 3, 'c': 5}\n"
     ]
    }
   ],
   "source": [
    "#key와 value 쌍으로 딕셔너리 생성\n",
    "d = dict(a=1,b=3,c=5)\n",
    "print(d)"
   ]
  },
  {
   "cell_type": "code",
   "execution_count": 14,
   "id": "ca99a0e9",
   "metadata": {},
   "outputs": [
    {
     "name": "stdout",
     "output_type": "stream",
     "text": [
      "{'국어': 80, '영어': 90, '수학': 100}\n"
     ]
    }
   ],
   "source": [
    "#튜플 리스트를 딕셔너리로 생성\n",
    "score = dict([(\"국어\",80),(\"영어\",90),(\"수학\",100)])\n",
    "print(score)"
   ]
  },
  {
   "cell_type": "code",
   "execution_count": 18,
   "id": "f307b702",
   "metadata": {},
   "outputs": [
    {
     "name": "stdout",
     "output_type": "stream",
     "text": [
      "{'id': 'dragon', 'name': '홍길동', 'level': 7, 'point': 1000}\n",
      "dragon\n",
      "홍길동\n",
      "7\n",
      "1000\n"
     ]
    }
   ],
   "source": [
    "user = {\"id\":\"dragon\",\"name\":\"홍길동\",\"level\":7,\"point\":1000}\n",
    "print(user)\n",
    "print(user[\"id\"]) #user.id 형식은 인정하지 않음\n",
    "print(user[\"name\"])\n",
    "print(user[\"level\"])\n",
    "print(user[\"point\"])"
   ]
  },
  {
   "cell_type": "code",
   "execution_count": 19,
   "id": "b6e7d645",
   "metadata": {},
   "outputs": [
    {
     "name": "stdout",
     "output_type": "stream",
     "text": [
      "{'kor': 90, 'eng': 89, 'math': 98}\n"
     ]
    }
   ],
   "source": [
    "scores = {\"kor\":90,\"eng\":89,\"math\":98}\n",
    "print(scores)"
   ]
  },
  {
   "cell_type": "code",
   "execution_count": 23,
   "id": "ca538340",
   "metadata": {},
   "outputs": [
    {
     "name": "stdout",
     "output_type": "stream",
     "text": [
      "{'kor': 90, 'eng': 89, 'math': 98, 'music': 100}\n",
      "{'kor': 90, 'eng': 89, 'math': 98, 'music': 200}\n",
      "89\n",
      "{'kor': 90, 'math': 98, 'music': 200}\n"
     ]
    }
   ],
   "source": [
    "#추가\n",
    "scores[\"music\"] = 100\n",
    "print(scores)\n",
    "#수정\n",
    "scores[\"music\"] = 200\n",
    "print(scores)\n",
    "#삭제\n",
    "x = scores.pop(\"eng\")\n",
    "print(x)\n",
    "print(scores)"
   ]
  },
  {
   "cell_type": "code",
   "execution_count": 24,
   "id": "da894906",
   "metadata": {},
   "outputs": [
    {
     "name": "stdout",
     "output_type": "stream",
     "text": [
      "{}\n"
     ]
    }
   ],
   "source": [
    "#딕셔너리 scores의 전체 요소 삭제\n",
    "scores.clear()\n",
    "print(scores)"
   ]
  },
  {
   "cell_type": "code",
   "execution_count": 25,
   "id": "9541e484",
   "metadata": {},
   "outputs": [
    {
     "name": "stdout",
     "output_type": "stream",
     "text": [
      "서울 지역번호 : 02\n",
      "부산 지역번호 : 051\n",
      "대구 지역번호 : 053\n",
      "광주 지역번호 : 062\n"
     ]
    }
   ],
   "source": [
    "area_code = {\"서울\":\"02\",\"부산\":\"051\",\"대구\":\"053\",\"광주\":\"062\"}\n",
    "\n",
    "for key in area_code: #반복 루프에서  key는 area_code의 키를 의미\n",
    "    print(\"%s 지역번호 : %s\" % (key,area_code[key]))"
   ]
  },
  {
   "cell_type": "code",
   "execution_count": 27,
   "id": "3352922c",
   "metadata": {},
   "outputs": [
    {
     "name": "stdout",
     "output_type": "stream",
     "text": [
      "{1, 2, 3}\n",
      "{'l', 'o', 'e', 'h'}\n"
     ]
    }
   ],
   "source": [
    "#집합 자료형\n",
    "#집합(set)은 파이썬 2.3부터 지원하기 시작한 자료형으로,\n",
    "#집합에 관련된 것을 쉽게 처리하기 위해 만든 자료형\n",
    "s1 = set([1,2,3])\n",
    "print(s1)\n",
    "\n",
    "#중복을 허용하지 않음\n",
    "#순서가 없다(Unordered)\n",
    "#리스트나 튜플은 순서가 있기(ordered) 때문에 인덱싱을 통해\n",
    "#자료형의 값을 얻을 수 있음\n",
    "#set 자료형은 순서가 없기(Unordered) 때문에 인덱싱으로 값을\n",
    "#얻을 수 없음\n",
    "s2 = set(\"hello\")\n",
    "print(s2)"
   ]
  },
  {
   "cell_type": "code",
   "execution_count": 29,
   "id": "3431bfac",
   "metadata": {},
   "outputs": [
    {
     "name": "stdout",
     "output_type": "stream",
     "text": [
      "{1, 2, 3} <class 'set'>\n",
      "[1, 2, 3] <class 'list'>\n",
      "(1, 2, 3) <class 'tuple'>\n"
     ]
    }
   ],
   "source": [
    "#리스트로 변환\n",
    "s3 = set([1,2,3])\n",
    "print(s3,type(s3))\n",
    "lt1 = list(s3)\n",
    "print(lt1,type(lt1))\n",
    "\n",
    "#튜플로 변환\n",
    "t1 = tuple(s3)\n",
    "print(t1,type(t1))"
   ]
  },
  {
   "cell_type": "code",
   "execution_count": 34,
   "id": "f7b2e397",
   "metadata": {},
   "outputs": [
    {
     "name": "stdout",
     "output_type": "stream",
     "text": [
      "{4, 5, 6}\n",
      "{4, 5, 6}\n",
      "{1, 2, 3, 4, 5, 6, 7, 8, 9}\n",
      "{1, 2, 3, 4, 5, 6, 7, 8, 9}\n",
      "{1, 2, 3}\n",
      "{8, 9, 7}\n",
      "{1, 2, 3}\n",
      "{8, 9, 7}\n"
     ]
    }
   ],
   "source": [
    "#교집합, 합집합, 차집합 구하기\n",
    "s1 = set([1,2,3,4,5,6])\n",
    "s2 = set([4,5,6,7,8,9])\n",
    "\n",
    "#교집합\n",
    "print(s1 & s2)\n",
    "print(s1.intersection(s2))\n",
    "\n",
    "#합집합\n",
    "print(s1 | s2)\n",
    "print(s1.union(s2))\n",
    "\n",
    "#차집합\n",
    "print(s1 - s2)\n",
    "print(s2 - s1)\n",
    "print(s1.difference(s2))\n",
    "print(s2.difference(s1))\n"
   ]
  },
  {
   "cell_type": "code",
   "execution_count": 8,
   "id": "89b03667",
   "metadata": {},
   "outputs": [
    {
     "name": "stdout",
     "output_type": "stream",
     "text": [
      "{1, 2, 3}\n",
      "{1, 2, 3, 4}\n",
      "{1, 2, 3, 4, 5, 6}\n",
      "{1, 3}\n",
      "{40, 10, 20, 30}\n",
      "set()\n",
      "{100}\n"
     ]
    }
   ],
   "source": [
    "#집합 자료형 관련 함수\n",
    "s1 = set([1,2,3])\n",
    "print(s1)\n",
    "#set 자료형에 값 추가\n",
    "s1.add(4)\n",
    "print(s1)\n",
    "\n",
    "s2 = set([1,2,3])\n",
    "#값 여러 개 추가하기(update)\n",
    "s2.update([4,5,6])\n",
    "print(s2)\n",
    "\n",
    "s3 = set([1,2,3])\n",
    "#특정 값 제거하기(remove)\n",
    "s3.remove(2)\n",
    "print(s3)\n",
    "\n",
    "s4 = set([10,20,30,40])\n",
    "print(s4)\n",
    "s4.clear()\n",
    "print(s4)\n",
    "s4.add(100)\n",
    "print(s4)"
   ]
  }
 ],
 "metadata": {
  "kernelspec": {
   "display_name": "python_env",
   "language": "python",
   "name": "python3"
  },
  "language_info": {
   "codemirror_mode": {
    "name": "ipython",
    "version": 3
   },
   "file_extension": ".py",
   "mimetype": "text/x-python",
   "name": "python",
   "nbconvert_exporter": "python",
   "pygments_lexer": "ipython3",
   "version": "3.12.11"
  }
 },
 "nbformat": 4,
 "nbformat_minor": 5
}
