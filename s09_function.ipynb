{
 "cells": [
  {
   "cell_type": "code",
   "execution_count": 1,
   "id": "11b7384e",
   "metadata": {},
   "outputs": [
    {
     "name": "stdout",
     "output_type": "stream",
     "text": [
      "안녕하세요.\n"
     ]
    }
   ],
   "source": [
    "#함수 정의(같은 이름으로 함수를 정의할 수 없음)\n",
    "def hello():\n",
    "    print(\"안녕하세요.\")\n",
    "\n",
    "#함수 호출\n",
    "hello()"
   ]
  },
  {
   "cell_type": "code",
   "execution_count": 2,
   "id": "1c96c233",
   "metadata": {},
   "outputs": [
    {
     "name": "stdout",
     "output_type": "stream",
     "text": [
      "홍길동님 안녕하세요!\n"
     ]
    }
   ],
   "source": [
    "def say_hello(name):\n",
    "    print(\"%s님 안녕하세요!\" % name)\n",
    "\n",
    "say_hello(\"홍길동\")"
   ]
  },
  {
   "cell_type": "code",
   "execution_count": 3,
   "id": "67893b17",
   "metadata": {},
   "outputs": [
    {
     "name": "stdout",
     "output_type": "stream",
     "text": [
      "7\n"
     ]
    }
   ],
   "source": [
    "def sum(a,b):\n",
    "    return a + b\n",
    "\n",
    "a = 3\n",
    "b = 4\n",
    "c = sum(a,b)\n",
    "print(c)"
   ]
  },
  {
   "cell_type": "code",
   "execution_count": 5,
   "id": "9dcc781f",
   "metadata": {},
   "outputs": [
    {
     "name": "stdout",
     "output_type": "stream",
     "text": [
      "6은(는) 짝수이다.\n"
     ]
    }
   ],
   "source": [
    "def even_odd(n):\n",
    "    if n % 2 == 0:\n",
    "        print(\"%d은(는) 짝수이다.\" % n)\n",
    "    else:\n",
    "        print(\"%d은(는) 홀수이다.\" % n)\n",
    "\n",
    "x = int(input(\"양의 정수를 입력하세요\"))\n",
    "even_odd(x)"
   ]
  },
  {
   "cell_type": "code",
   "execution_count": 6,
   "id": "02b6f6af",
   "metadata": {},
   "outputs": [
    {
     "name": "stdout",
     "output_type": "stream",
     "text": [
      "Hi\n"
     ]
    }
   ],
   "source": [
    "#입력값이 없는 함수\n",
    "def say():\n",
    "    return 'Hi'\n",
    "\n",
    "a = say()\n",
    "print(a)"
   ]
  },
  {
   "cell_type": "code",
   "execution_count": 7,
   "id": "10392adc",
   "metadata": {},
   "outputs": [
    {
     "name": "stdout",
     "output_type": "stream",
     "text": [
      "3, 4의 합은 7입니다.\n",
      "3, 4의 합은 7입니다.\n"
     ]
    }
   ],
   "source": [
    "#결과값이 없는 함수\n",
    "def sum(a,b):\n",
    "    print(\"%d, %d의 합은 %d입니다.\" % (a,b,a+b))\n",
    "    print(\"{0}, {1}의 합은 {2}입니다.\".format(a,b,a+b))\n",
    "\n",
    "sum(3,4)"
   ]
  },
  {
   "cell_type": "code",
   "execution_count": 9,
   "id": "b9beb998",
   "metadata": {},
   "outputs": [
    {
     "name": "stdout",
     "output_type": "stream",
     "text": [
      "3 과목 평균 : 89.3\n",
      "5 과목 평균 : 84.8\n"
     ]
    }
   ],
   "source": [
    "#하나의 함수에서 매개변수의 개수를 고정하지 않고 호출 함수에서\n",
    "#전달하는 인수의 개수에 따라 매개변수를 가변적으로 하고 싶은\n",
    "#경우에 사용하는 것이 매개변수 *args\n",
    "\n",
    "def average(*args): #args는 튜플 데이터 형\n",
    "    num_args = len(args)\n",
    "    sum = 0\n",
    "    for i in range(num_args):\n",
    "        sum = sum + args[i]\n",
    "    \n",
    "    avg = sum/num_args\n",
    "    print(\"%d 과목 평균 : %.1f\" % (num_args,avg))\n",
    "\n",
    "average(85,96,87)\n",
    "average(77,93,85,97,72)"
   ]
  },
  {
   "cell_type": "code",
   "execution_count": null,
   "id": "d384ed2c",
   "metadata": {},
   "outputs": [
    {
     "name": "stdout",
     "output_type": "stream",
     "text": [
      "사과\n",
      "오렌지\n",
      "바나나\n"
     ]
    }
   ],
   "source": [
    "def func(food): #food는 fruits가 저장된 메모리 주소를 전달받음\n",
    "    for x in food:\n",
    "        print(x)\n",
    "\n",
    "fruits = [\"사과\",\"오렌지\",\"바나나\"]\n",
    "\n",
    "func(fruits)"
   ]
  },
  {
   "cell_type": "code",
   "execution_count": 13,
   "id": "0289d4f8",
   "metadata": {},
   "outputs": [
    {
     "name": "stdout",
     "output_type": "stream",
     "text": [
      "15\n",
      "25\n",
      "------------------------------\n",
      "80 inch => 203.20 cm\n"
     ]
    }
   ],
   "source": [
    "def func2(n):\n",
    "    x = n + 5\n",
    "    return x\n",
    "\n",
    "a = func2(10)\n",
    "print(a)\n",
    "b = func2(20)\n",
    "print(b)\n",
    "print('-' * 30)\n",
    "\n",
    "def inch_to_cm(inch):\n",
    "    cm = inch * 2.54\n",
    "    return cm\n",
    "\n",
    "num = int(input(\"인치를 입력하세요\"))\n",
    "result = inch_to_cm(num)\n",
    "print(\"%d inch => %.2f cm\" % (num,result))"
   ]
  }
 ],
 "metadata": {
  "kernelspec": {
   "display_name": "python_env",
   "language": "python",
   "name": "python3"
  },
  "language_info": {
   "codemirror_mode": {
    "name": "ipython",
    "version": 3
   },
   "file_extension": ".py",
   "mimetype": "text/x-python",
   "name": "python",
   "nbconvert_exporter": "python",
   "pygments_lexer": "ipython3",
   "version": "3.12.11"
  }
 },
 "nbformat": 4,
 "nbformat_minor": 5
}
