{
 "cells": [
  {
   "cell_type": "markdown",
   "id": "d65b6e77",
   "metadata": {},
   "source": [
    "### 자료형\n",
    "기본적인 자료형의 종류\n",
    "\n",
    "- 숫자(number) : 물건의 가격, 학생의 성적 53,273, 103.22\n",
    "- 문자열(string) : 메일 제목, 메시지 내용등 \"Hello World\"\n",
    "- 불(boolean) : 친구의 로그인 상태 True, False"
   ]
  },
  {
   "cell_type": "code",
   "execution_count": 1,
   "id": "b4d74974",
   "metadata": {},
   "outputs": [
    {
     "name": "stdout",
     "output_type": "stream",
     "text": [
      "273\n"
     ]
    }
   ],
   "source": [
    "print(273) #정수"
   ]
  },
  {
   "cell_type": "code",
   "execution_count": 2,
   "id": "93405c90",
   "metadata": {},
   "outputs": [
    {
     "name": "stdout",
     "output_type": "stream",
     "text": [
      "1234 <class 'int'>\n"
     ]
    }
   ],
   "source": [
    "#변수의 현재 타입을 조사할 때는 type 명령을 사용\n",
    "#type()은 데이터 타입(오브젝트의 클래스 타입)을 확인할 수 있는 함수\n",
    "h = 1234\n",
    "print(h,type(h))"
   ]
  },
  {
   "cell_type": "code",
   "execution_count": 4,
   "id": "916df2c5",
   "metadata": {},
   "outputs": [
    {
     "name": "stdout",
     "output_type": "stream",
     "text": [
      "8\n",
      "16\n",
      "2\n",
      "0o46\n",
      "0x26\n",
      "0b100110\n"
     ]
    }
   ],
   "source": [
    "#정수형\n",
    "print(0o10) #8진수\n",
    "print(0x10) #16진수\n",
    "print(0b10) #2진수\n",
    "\n",
    "#10진수를 원하는 진수로 변환\n",
    "print(oct(38)) #8진수로 변환\n",
    "print(hex(38)) #16진수로 변환\n",
    "print(bin(38)) #2진수로 변환"
   ]
  },
  {
   "cell_type": "code",
   "execution_count": 5,
   "id": "673f145e",
   "metadata": {},
   "outputs": [
    {
     "name": "stdout",
     "output_type": "stream",
     "text": [
      "<class 'float'>\n"
     ]
    }
   ],
   "source": [
    "#실수\n",
    "print(type(3.14))"
   ]
  },
  {
   "cell_type": "code",
   "execution_count": 6,
   "id": "f268e808",
   "metadata": {},
   "outputs": [
    {
     "name": "stdout",
     "output_type": "stream",
     "text": [
      "string <class 'str'>\n"
     ]
    }
   ],
   "source": [
    "#문자\n",
    "i = 'string'\n",
    "print(i,type(i))"
   ]
  },
  {
   "cell_type": "code",
   "execution_count": 12,
   "id": "1ccd8784",
   "metadata": {},
   "outputs": [
    {
     "name": "stdout",
     "output_type": "stream",
     "text": [
      "오늘은 \"월요일\"\n",
      "내일은 \"화요일\"\n",
      "여기는 '서울'\n",
      "저기는 '부산'\n"
     ]
    }
   ],
   "source": [
    "print(\"오늘은 \\\"월요일\\\"\")\n",
    "print('내일은 \"화요일\"')\n",
    "\n",
    "print(\"여기는 '서울'\")\n",
    "print('저기는 \\'부산\\'')"
   ]
  },
  {
   "cell_type": "code",
   "execution_count": 16,
   "id": "8e3b2378",
   "metadata": {},
   "outputs": [
    {
     "name": "stdout",
     "output_type": "stream",
     "text": [
      "python\n",
      "python\n",
      "python\n",
      "pypypy\n"
     ]
    }
   ],
   "source": [
    "print('py' + 'thon')\n",
    "print('py' 'thon') # + 연산자 생략 가능\n",
    "print('py''thon') #'py'와 'thon' 사이에 공백이 없어도 됨\n",
    "print('py' * 3) #문자열 3번 반복"
   ]
  },
  {
   "cell_type": "code",
   "execution_count": 18,
   "id": "da96e4d7",
   "metadata": {},
   "outputs": [
    {
     "name": "stdout",
     "output_type": "stream",
     "text": [
      "\n",
      "        하늘        바다\n",
      "        지구\n",
      "\n",
      "\n",
      "        하늘        바다\n",
      "        지구\n",
      "\n"
     ]
    }
   ],
   "source": [
    "#\"\"\" 또는 ''' 줄바꿈이나 탭도 그대로 적용됨\n",
    "print(\"\"\"\n",
    "        하늘        바다\n",
    "        지구\n",
    "\"\"\")\n",
    "\n",
    "print('''\n",
    "        하늘        바다\n",
    "        지구\n",
    "''')\n"
   ]
  },
  {
   "cell_type": "code",
   "execution_count": 19,
   "id": "e807f78a",
   "metadata": {},
   "outputs": [
    {
     "name": "stdout",
     "output_type": "stream",
     "text": [
      "\t탭\n",
      "다음줄\n"
     ]
    }
   ],
   "source": [
    "print(\"\\t탭\\n다음줄\")"
   ]
  },
  {
   "cell_type": "code",
   "execution_count": 21,
   "id": "b6603cf8",
   "metadata": {},
   "outputs": [
    {
     "name": "stdout",
     "output_type": "stream",
     "text": [
      "\\t탭\\n다음줄\n"
     ]
    }
   ],
   "source": [
    "#이스케이프 문자 무력화\n",
    "#파이썬에서는 문자열 앞에 r를 붙여서 로(row)문자열로 선언할 수 있음\n",
    "print(r\"\\t탭\\n다음줄\")"
   ]
  },
  {
   "cell_type": "code",
   "execution_count": 22,
   "id": "c1f9c8d7",
   "metadata": {},
   "outputs": [
    {
     "name": "stdout",
     "output_type": "stream",
     "text": [
      "문자열의 길이 :19\n"
     ]
    }
   ],
   "source": [
    "x = '가는 말이 고와야 오는 말이 곱다.'\n",
    "n = len(x) #문자열의 길이\n",
    "print('문자열의 길이 :' + str(n)) #정수 n을 문자열로 바꿈"
   ]
  },
  {
   "cell_type": "code",
   "execution_count": null,
   "id": "9b4b0199",
   "metadata": {},
   "outputs": [
    {
     "name": "stdout",
     "output_type": "stream",
     "text": [
      "e\n",
      "n\n",
      "L\n"
     ]
    }
   ],
   "source": [
    "#문자열 인덱싱과 슬라이싱\n",
    "a = \"Life is too short, You need Python\"\n",
    "print(a[3])\n",
    "print(a[-1])\n",
    "print(a[-0]) #a[0]과 같은 값을 보여줌\n"
   ]
  },
  {
   "cell_type": "code",
   "execution_count": 29,
   "id": "a96cbe84",
   "metadata": {},
   "outputs": [
    {
     "name": "stdout",
     "output_type": "stream",
     "text": [
      "Life\n",
      "You need Python\n",
      "Life is too short\n",
      "You need\n"
     ]
    }
   ],
   "source": [
    "#문자열 슬라이싱\n",
    "print(a[0:4]) #끝 번호를 포함하지 않음\n",
    "print(a[19:]) #끝 번호를 생략하면 시작 번호부터 그 문자열의 끝까지 뽑아냄\n",
    "print(a[:17]) #시작 번호를 생략하면 문자열의 처음부터 끝 번호전까지 뽑아냄\n",
    "print(a[19:-7]) #19 ~ -8까지를 의미. -7은 포함하지 않음"
   ]
  },
  {
   "cell_type": "code",
   "execution_count": null,
   "id": "dc9a0bdc",
   "metadata": {},
   "outputs": [
    {
     "name": "stdout",
     "output_type": "stream",
     "text": [
      "나는 고양이를 좋아합니다.\n"
     ]
    }
   ],
   "source": [
    "# %s 문자열, %d 정수형 숫자, %f 실수형 숫자\n",
    "animal = '고양이'\n",
    "x = '나는 %s를 %s 좋아합니다.' % animal\n",
    "print(x)"
   ]
  },
  {
   "cell_type": "code",
   "execution_count": 32,
   "id": "6b992c8a",
   "metadata": {},
   "outputs": [
    {
     "name": "stdout",
     "output_type": "stream",
     "text": [
      "내 나이는 25살 입니다.\n"
     ]
    }
   ],
   "source": [
    "age = 25\n",
    "print('내 나이는 %d살 입니다.' % age)"
   ]
  },
  {
   "cell_type": "code",
   "execution_count": 34,
   "id": "a9803c95",
   "metadata": {},
   "outputs": [
    {
     "name": "stdout",
     "output_type": "stream",
     "text": [
      "1,000원\n",
      "1,000원\n"
     ]
    }
   ],
   "source": [
    "num = 1000\n",
    "print(format(num,',')+'원')\n",
    "\n",
    "#{0}는 위치 인덱스를 나타냄 0은 format() \n",
    "#함수의 첫 번째 인수를 가리킴\n",
    "print('{0:,}원'.format(num))"
   ]
  },
  {
   "cell_type": "code",
   "execution_count": 35,
   "id": "08ac17ce",
   "metadata": {},
   "outputs": [
    {
     "data": {
      "text/plain": [
       "'I ate 10 apples. so I was sick for three days.'"
      ]
     },
     "execution_count": 35,
     "metadata": {},
     "output_type": "execute_result"
    }
   ],
   "source": [
    "#2개 이상의 값 넣기\n",
    "number = 10\n",
    "day = \"three\"\n",
    "\"I ate {0} apples. so I was sick for {1} days.\".format(number,day)"
   ]
  },
  {
   "cell_type": "code",
   "execution_count": 36,
   "id": "8d3941e9",
   "metadata": {},
   "outputs": [
    {
     "data": {
      "text/plain": [
       "'I ate 10 apples. so I was sick for 3 days.'"
      ]
     },
     "execution_count": 36,
     "metadata": {},
     "output_type": "execute_result"
    }
   ],
   "source": [
    "#이름으로 넣기\n",
    "\"I ate {number} apples. so I was sick for {day} days.\".format(number=10,day=3)"
   ]
  },
  {
   "cell_type": "code",
   "execution_count": 38,
   "id": "916bb30a",
   "metadata": {},
   "outputs": [
    {
     "data": {
      "text/plain": [
       "'I ate 10 apples. so I was sick for 3 days.'"
      ]
     },
     "execution_count": 38,
     "metadata": {},
     "output_type": "execute_result"
    }
   ],
   "source": [
    "#인덱스와 이름을 혼용해서 넣기\n",
    "\"I ate {0} apples. so I was sick for {day} days.\".format(10,day=3)"
   ]
  },
  {
   "cell_type": "code",
   "execution_count": 42,
   "id": "7b65a283",
   "metadata": {},
   "outputs": [
    {
     "name": "stdout",
     "output_type": "stream",
     "text": [
      "hi        \n",
      "        hi\n",
      "    hi    \n",
      "====hi====\n"
     ]
    }
   ],
   "source": [
    "#왼쪽 정렬\n",
    "print(\"{0:<10}\".format(\"hi\"))\n",
    "#오른쪽 정렬\n",
    "print(\"{0:>10}\".format(\"hi\"))\n",
    "#가운데 정렬\n",
    "print(\"{0:^10}\".format(\"hi\"))\n",
    "#공백 채우기\n",
    "print(\"{0:=^10}\".format(\"hi\"))"
   ]
  },
  {
   "cell_type": "code",
   "execution_count": 44,
   "id": "b5a624aa",
   "metadata": {},
   "outputs": [
    {
     "name": "stdout",
     "output_type": "stream",
     "text": [
      "3.4213\n",
      "    3.4213\n"
     ]
    }
   ],
   "source": [
    "#소수점 표현하기\n",
    "y = 3.42134234\n",
    "print(\"{0:0.4f}\".format(y))\n",
    "print(\"{0:10.4f}\".format(y)) #자릿수 10 지정"
   ]
  },
  {
   "cell_type": "code",
   "execution_count": 45,
   "id": "7af0a2fe",
   "metadata": {},
   "outputs": [
    {
     "data": {
      "text/plain": [
       "'나의 이름은 홍길동입니다. 나이는 20입니다.'"
      ]
     },
     "execution_count": 45,
     "metadata": {},
     "output_type": "execute_result"
    }
   ],
   "source": [
    "#f문자열 포매팅\n",
    "name = '홍길동'\n",
    "age = 20\n",
    "f'나의 이름은 {name}입니다. 나이는 {age}입니다.'"
   ]
  },
  {
   "cell_type": "code",
   "execution_count": 47,
   "id": "a435fbd2",
   "metadata": {},
   "outputs": [
    {
     "name": "stdout",
     "output_type": "stream",
     "text": [
      "14\n",
      "-1\n"
     ]
    }
   ],
   "source": [
    "#위치 알려주기\n",
    "a = \"Python is the best choice\"\n",
    "print(a.find('b'))\n",
    "print(a.find('k'))"
   ]
  },
  {
   "cell_type": "code",
   "execution_count": 49,
   "id": "0d6115b2",
   "metadata": {},
   "outputs": [
    {
     "name": "stdout",
     "output_type": "stream",
     "text": [
      "8\n"
     ]
    },
    {
     "ename": "ValueError",
     "evalue": "substring not found",
     "output_type": "error",
     "traceback": [
      "\u001b[31m---------------------------------------------------------------------------\u001b[39m",
      "\u001b[31mValueError\u001b[39m                                Traceback (most recent call last)",
      "\u001b[36mCell\u001b[39m\u001b[36m \u001b[39m\u001b[32mIn[49]\u001b[39m\u001b[32m, line 4\u001b[39m\n\u001b[32m      2\u001b[39m a = \u001b[33m\"\u001b[39m\u001b[33mLife is too short\u001b[39m\u001b[33m\"\u001b[39m\n\u001b[32m      3\u001b[39m \u001b[38;5;28mprint\u001b[39m(a.index(\u001b[33m'\u001b[39m\u001b[33mt\u001b[39m\u001b[33m'\u001b[39m))\n\u001b[32m----> \u001b[39m\u001b[32m4\u001b[39m \u001b[38;5;28mprint\u001b[39m(\u001b[43ma\u001b[49m\u001b[43m.\u001b[49m\u001b[43mindex\u001b[49m\u001b[43m(\u001b[49m\u001b[33;43m'\u001b[39;49m\u001b[33;43mk\u001b[39;49m\u001b[33;43m'\u001b[39;49m\u001b[43m)\u001b[49m) \u001b[38;5;66;03m#없으면 오류\u001b[39;00m\n",
      "\u001b[31mValueError\u001b[39m: substring not found"
     ]
    }
   ],
   "source": [
    "#위치 알려주기\n",
    "a = \"Life is too short\"\n",
    "print(a.index('t'))\n",
    "print(a.index('k')) #없으면 오류"
   ]
  },
  {
   "cell_type": "code",
   "execution_count": 51,
   "id": "005d047b",
   "metadata": {},
   "outputs": [
    {
     "name": "stdout",
     "output_type": "stream",
     "text": [
      "a,b,c\n",
      "a,b,c,d\n"
     ]
    }
   ],
   "source": [
    "#문자열 삽입\n",
    "print(\",\".join('abc'))\n",
    "print(\",\".join(['a','b','c','d']))"
   ]
  },
  {
   "cell_type": "code",
   "execution_count": 3,
   "id": "16b09f17",
   "metadata": {},
   "outputs": [
    {
     "name": "stdout",
     "output_type": "stream",
     "text": [
      "HI\n",
      "hi\n",
      "hi \n",
      " hi\n",
      "hi\n",
      "Your leg is too short\n",
      "['Life', 'is', 'too', 'short']\n",
      "['a', 'b', 'c', 'd']\n"
     ]
    }
   ],
   "source": [
    "#소문자를 대문자로 바꾸기\n",
    "a = 'hi'\n",
    "print(a.upper())\n",
    "#대문자를 소문자로 바꾸기\n",
    "b = 'HI'\n",
    "print(b.lower())\n",
    "#왼쪽 공백 지우기\n",
    "c = \" hi \"\n",
    "print(c.lstrip())\n",
    "#오른쪽 공백 지우기\n",
    "d = \" hi \"\n",
    "print(d.rstrip())\n",
    "#양쪽 공백 지우기\n",
    "e = \" hi \"\n",
    "print(e.strip())\n",
    "#문자열 바꾸기\n",
    "f = \"Life is too short\"\n",
    "print(f.replace(\"Life\",\"Your leg\"))\n",
    "#문자열 나누기\n",
    "g = \"Life is too short\"\n",
    "print(g.split()) #공백을 기준으로 문자열 나눔\n",
    "h = \"a:b:c:d\"\n",
    "print(h.split(':')) # :기호를 기준으로 문자열 나눔"
   ]
  },
  {
   "cell_type": "code",
   "execution_count": 4,
   "id": "42d43efc",
   "metadata": {},
   "outputs": [
    {
     "name": "stdout",
     "output_type": "stream",
     "text": [
      "3.14\n",
      "49\n",
      "23.0\n"
     ]
    }
   ],
   "source": [
    "#문자열이나 수치들간의 변환은 다음과 같이 \n",
    "#각 타입 클래스의 생성자를 이용해서 가능\n",
    "\n",
    "print(str(3.14)) #문자열로 변환\n",
    "print(int(\"49\")) #정수로 변환\n",
    "print(float(23)) #실수로 변환\n"
   ]
  },
  {
   "cell_type": "code",
   "execution_count": 5,
   "id": "f132869f",
   "metadata": {},
   "outputs": [
    {
     "name": "stdout",
     "output_type": "stream",
     "text": [
      "20\n",
      "<class 'str'>\n"
     ]
    }
   ],
   "source": [
    "#사용자로부터 값을 입력받을 때는 input 명령을 사용한다.\n",
    "#변수 = input('질문 내용')\n",
    "age = input('몇 살이세요?')\n",
    "print(age)\n",
    "print(type(age))"
   ]
  },
  {
   "cell_type": "code",
   "execution_count": 6,
   "id": "cb5356dd",
   "metadata": {},
   "outputs": [
    {
     "name": "stdout",
     "output_type": "stream",
     "text": [
      "<class 'str'> <class 'str'>\n",
      "총액은  5000 원입니다.\n"
     ]
    }
   ],
   "source": [
    "price = input('가격을 입력하세요')\n",
    "num = input('개수를 입력하세요')\n",
    "#input으로 입력된 데이터는 문자열로 인식\n",
    "print(type(price),type(num))\n",
    "total = int(price) * int(num)\n",
    "print('총액은 ', total, '원입니다.')"
   ]
  }
 ],
 "metadata": {
  "kernelspec": {
   "display_name": "python_env",
   "language": "python",
   "name": "python3"
  },
  "language_info": {
   "codemirror_mode": {
    "name": "ipython",
    "version": 3
   },
   "file_extension": ".py",
   "mimetype": "text/x-python",
   "name": "python",
   "nbconvert_exporter": "python",
   "pygments_lexer": "ipython3",
   "version": "3.12.11"
  }
 },
 "nbformat": 4,
 "nbformat_minor": 5
}
