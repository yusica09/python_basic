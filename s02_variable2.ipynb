{
 "cells": [
  {
   "cell_type": "code",
   "execution_count": 1,
   "id": "62855b04",
   "metadata": {},
   "outputs": [
    {
     "data": {
      "text/plain": [
       "3"
      ]
     },
     "execution_count": 1,
     "metadata": {},
     "output_type": "execute_result"
    }
   ],
   "source": [
    "1+2"
   ]
  },
  {
   "cell_type": "code",
   "execution_count": 2,
   "id": "232f3b2a",
   "metadata": {},
   "outputs": [
    {
     "data": {
      "text/plain": [
       "1.5"
      ]
     },
     "execution_count": 2,
     "metadata": {},
     "output_type": "execute_result"
    }
   ],
   "source": [
    "3/2"
   ]
  },
  {
   "cell_type": "markdown",
   "id": "6ad02783",
   "metadata": {},
   "source": [
    "print 함수를 이용해서 출력하기\n",
    "\n",
    "주석\n",
    "\n",
    "#은 한 줄 주석\n",
    "\n",
    "\"\"\"은 여러줄 주석 \"\"\"\n",
    "\n",
    "'''은 여러줄 주석'''\n"
   ]
  },
  {
   "cell_type": "code",
   "execution_count": 3,
   "id": "08f6c9b6",
   "metadata": {},
   "outputs": [
    {
     "name": "stdout",
     "output_type": "stream",
     "text": [
      "Hello World\n",
      "오늘은 월요일\n"
     ]
    }
   ],
   "source": [
    "print(\"Hello World\"); #출력 후 줄바꿈\n",
    "\"\"\"\n",
    "여러줄 주석\n",
    "\"\"\"\n",
    "'''\n",
    "여러줄 주석\n",
    "'''\n",
    "print('오늘은 월요일');\n"
   ]
  },
  {
   "cell_type": "code",
   "execution_count": 4,
   "id": "57f36c0c",
   "metadata": {},
   "outputs": [
    {
     "name": "stdout",
     "output_type": "stream",
     "text": [
      "내일은 화요일\n"
     ]
    }
   ],
   "source": [
    "print('내일은 화요일') #세미콜론 생략 가능"
   ]
  },
  {
   "cell_type": "code",
   "execution_count": 8,
   "id": "8df7caa7",
   "metadata": {},
   "outputs": [
    {
     "name": "stdout",
     "output_type": "stream",
     "text": [
      "35\n",
      "5.75\n",
      "True\n"
     ]
    }
   ],
   "source": [
    "print(35) #정수 출력\n",
    "print(5.75) #실수 출력\n",
    "print(True) #논리 데이터 출력"
   ]
  },
  {
   "cell_type": "code",
   "execution_count": 11,
   "id": "c69394b0",
   "metadata": {},
   "outputs": [
    {
     "name": "stdout",
     "output_type": "stream",
     "text": [
      "1 2\n",
      "3\n",
      "대한민국\n"
     ]
    }
   ],
   "source": [
    "#변수의 사용\n",
    "a = 1\n",
    "b = 2\n",
    "print(a,b) #공백을 구분자로 변수를 두 개 출력\n",
    "\n",
    "print(a + b) #연산\n",
    "print('대한' + '민국') #문자열 + 문자열 -> 문자열"
   ]
  },
  {
   "cell_type": "code",
   "execution_count": 13,
   "id": "fbd765a0",
   "metadata": {},
   "outputs": [
    {
     "ename": "TypeError",
     "evalue": "unsupported operand type(s) for +: 'int' and 'str'",
     "output_type": "error",
     "traceback": [
      "\u001b[31m---------------------------------------------------------------------------\u001b[39m",
      "\u001b[31mTypeError\u001b[39m                                 Traceback (most recent call last)",
      "\u001b[36mCell\u001b[39m\u001b[36m \u001b[39m\u001b[32mIn[13]\u001b[39m\u001b[32m, line 1\u001b[39m\n\u001b[32m----> \u001b[39m\u001b[32m1\u001b[39m \u001b[38;5;28mprint\u001b[39m(\u001b[32;43m5\u001b[39;49m\u001b[43m \u001b[49m\u001b[43m+\u001b[49m\u001b[43m \u001b[49m\u001b[33;43m'\u001b[39;49m\u001b[33;43m10\u001b[39;49m\u001b[33;43m'\u001b[39;49m) \u001b[38;5;66;03m#숫자 + 문자열은 오류 발생\u001b[39;00m\n",
      "\u001b[31mTypeError\u001b[39m: unsupported operand type(s) for +: 'int' and 'str'"
     ]
    }
   ],
   "source": [
    "print(5 + '10') #숫자 + 문자열은 오류 발생"
   ]
  },
  {
   "cell_type": "code",
   "execution_count": 14,
   "id": "ee5ef8b4",
   "metadata": {},
   "outputs": [
    {
     "name": "stdout",
     "output_type": "stream",
     "text": [
      "510\n"
     ]
    }
   ],
   "source": [
    "print(str(5) + '10') #숫자를 문자열로 변환"
   ]
  },
  {
   "cell_type": "code",
   "execution_count": 16,
   "id": "5c950d67",
   "metadata": {},
   "outputs": [
    {
     "name": "stdout",
     "output_type": "stream",
     "text": [
      "3 4\n",
      "10 10 10\n"
     ]
    }
   ],
   "source": [
    "a = 3; b = 4 #한 라인에 여러 구문이 올 때는 구문들을 세미콜론으로 구분 (,로 나열할 수 없음)\n",
    "print(a,b)\n",
    "\n",
    "e = f = g = 10\n",
    "print(e,f,g)"
   ]
  },
  {
   "cell_type": "code",
   "execution_count": 17,
   "id": "8f61b215",
   "metadata": {},
   "outputs": [
    {
     "name": "stdout",
     "output_type": "stream",
     "text": [
      "5 6\n"
     ]
    }
   ],
   "source": [
    "#변수명\n",
    "#대소문자를 구분하고 숫자가 앞에 오지 말아야 함\n",
    "# & * % # @ , ! () 등과 같은 특수문자와 공백은 변수명에 사용할 수 없음\n",
    "\n",
    "friend = 5\n",
    "Friend = 6\n",
    "print(friend,Friend)"
   ]
  },
  {
   "cell_type": "code",
   "execution_count": 20,
   "id": "f11adcc0",
   "metadata": {},
   "outputs": [
    {
     "name": "stdout",
     "output_type": "stream",
     "text": [
      "5,6\n",
      "서울-->대전-->대구-->부산^^"
     ]
    }
   ],
   "source": [
    "#출력시 공백이 아닌 다른 문자를 넣고 싶다면 sep 인수에 원하는\n",
    "#구분자(Seperator)를 지정\n",
    "print(friend,Friend,sep=\",\")\n",
    "\n",
    "#print 명령의 end 인수는 내용을 출력한 후 더 출력할 문자를 지정하는데\n",
    "#이 값이 개행 문자로 되어 있어 한 번 호출할 때마다 자동 개행.\n",
    "#end 인수를 다른 문자로 지정하면 개행 코드 대신 이 문자가 출력.\n",
    "#print(출력 내용[,sep=구분자][,end=끝 문자]) 단순히 줄바꿈만을\n",
    "#원할 때는 print() 사용 가능\n",
    "\n",
    "s = '서울'\n",
    "d = '대전'\n",
    "g = '대구'\n",
    "b = '부산'\n",
    "print(s,d,g,b,sep='-->',end='^^')"
   ]
  },
  {
   "cell_type": "code",
   "execution_count": 24,
   "id": "443f230c",
   "metadata": {},
   "outputs": [
    {
     "name": "stdout",
     "output_type": "stream",
     "text": [
      "1234\n"
     ]
    },
    {
     "ename": "NameError",
     "evalue": "name 'j' is not defined",
     "output_type": "error",
     "traceback": [
      "\u001b[31m---------------------------------------------------------------------------\u001b[39m",
      "\u001b[31mNameError\u001b[39m                                 Traceback (most recent call last)",
      "\u001b[36mCell\u001b[39m\u001b[36m \u001b[39m\u001b[32mIn[24]\u001b[39m\u001b[32m, line 9\u001b[39m\n\u001b[32m      6\u001b[39m \u001b[38;5;28mprint\u001b[39m(j)\n\u001b[32m      8\u001b[39m \u001b[38;5;28;01mdel\u001b[39;00m j\n\u001b[32m----> \u001b[39m\u001b[32m9\u001b[39m \u001b[38;5;28mprint\u001b[39m(\u001b[43mj\u001b[49m)\n",
      "\u001b[31mNameError\u001b[39m: name 'j' is not defined"
     ]
    }
   ],
   "source": [
    "#변수는 일단 만들어지면 계속 존재하며 값을 유지.\n",
    "#이미 만들어 놓은 변수를 없애 버릴 때는 del 명령을 사용\n",
    "#변수를 삭제하면 메모리에서 사라지며 이후 이 변수를 참조하는 것은 에러.\n",
    "\n",
    "j = 1234\n",
    "print(j)\n",
    "\n",
    "del j\n",
    "print(j)\n"
   ]
  }
 ],
 "metadata": {
  "kernelspec": {
   "display_name": "python_env",
   "language": "python",
   "name": "python3"
  },
  "language_info": {
   "codemirror_mode": {
    "name": "ipython",
    "version": 3
   },
   "file_extension": ".py",
   "mimetype": "text/x-python",
   "name": "python",
   "nbconvert_exporter": "python",
   "pygments_lexer": "ipython3",
   "version": "3.12.11"
  }
 },
 "nbformat": 4,
 "nbformat_minor": 5
}
