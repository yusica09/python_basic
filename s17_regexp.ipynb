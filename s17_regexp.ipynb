{
 "cells": [
  {
   "cell_type": "code",
   "execution_count": 1,
   "id": "e7b8f4f0",
   "metadata": {},
   "outputs": [
    {
     "name": "stdout",
     "output_type": "stream",
     "text": [
      "<re.Match object; span=(0, 4), match='life'>\n",
      "life\n",
      "(0, 4)\n"
     ]
    }
   ],
   "source": [
    "#정규표현식 모듈 re 호출\n",
    "import re\n",
    "\n",
    "#match() : 문자열의 처음부터 정규식과 매치되는지 조사\n",
    "pattern = r'life' #패턴을 객체 저장함. 패턴 앞에는 r을 붙여\n",
    "script = 'life' #패턴과 같은 스트립트를 다른 객체에 저장\n",
    "\n",
    "#script에서 pattern을 찾음. 처음부터 매치 안 되면 None 반환\n",
    "p = re.match(pattern,script)\n",
    "print(p)\n",
    "\n",
    "#group()메서드를 사용해 매치된 내용을 반환,\n",
    "#매칭되지 않으면 오류 발생\n",
    "p2 = re.match(pattern,script).group()\n",
    "print(p2)\n",
    "\n",
    "#일치하는 문자열(시작,끝) 위치를 포함하는 튜플을 반환\n",
    "p2 = re.match(pattern,script).span()\n",
    "print(p2)"
   ]
  },
  {
   "cell_type": "code",
   "execution_count": null,
   "id": "27d784b5",
   "metadata": {},
   "outputs": [
    {
     "name": "stdout",
     "output_type": "stream",
     "text": [
      "Match!\n",
      "Not a match!\n",
      "Not a match!\n"
     ]
    }
   ],
   "source": [
    "#함수 정의\n",
    "def refinder(pattern,script):\n",
    "    if re.match(pattern,script):\n",
    "        print(\"Match!\")\n",
    "    else:\n",
    "        print(\"Not a match!\")\n",
    "\n",
    "refinder(r'Life','Life is so cool') #Match!\n",
    "refinder(r'life','Life is so cool') #Not a match!\n",
    "#match가 텍스트 중간에 있는 패턴을 찾지 못 \n",
    "refinder(r'is','Life is so cool') #Not a match!"
   ]
  },
  {
   "cell_type": "code",
   "execution_count": 9,
   "id": "5ef07f48",
   "metadata": {},
   "outputs": [
    {
     "name": "stdout",
     "output_type": "stream",
     "text": [
      "<re.Match object; span=(5, 7), match='is'>\n",
      "is\n",
      "(5, 7)\n",
      "cool\n"
     ]
    }
   ],
   "source": [
    "#search() : 문자열 전체를 검색하여 정규식과 매치되는지 조사\n",
    "p = re.search(r'is','Life is so cool')\n",
    "print(p)\n",
    "#일치하는 문자열을 반환\n",
    "p2 = re.search(r'is','Life is so cool').group()\n",
    "print(p2)\n",
    "#일치하는 문자열(시작,끝) 위치를 포함하는 튜플을 반환\n",
    "p3 = re.search(r'is','Life is so cool').span()\n",
    "print(p3)\n",
    "p4 = re.search(r'cool','Life is so cool').group()\n",
    "print(p4)"
   ]
  },
  {
   "cell_type": "code",
   "execution_count": 10,
   "id": "21092f3d",
   "metadata": {},
   "outputs": [
    {
     "name": "stdout",
     "output_type": "stream",
     "text": [
      "['511223', '521012']\n"
     ]
    }
   ],
   "source": [
    "#findall은 패턴을 문자열에서 모두 찾아서 리스트 형태로 반환\n",
    "number = \"My number is 511223-1****** and yours is 521012-2*****\"\n",
    "#\\d{6} 패턴은 숫자를 여섯 번 반복한 값을 의미\n",
    "p = re.findall(r\"\\d{6}\",number)\n",
    "print(p)"
   ]
  },
  {
   "cell_type": "code",
   "execution_count": null,
   "id": "174b94cf",
   "metadata": {},
   "outputs": [
    {
     "name": "stdout",
     "output_type": "stream",
     "text": [
      "['91년에 태어났습니다. 97년에는 IMF가 있었습니다. 지금은 2025년']\n",
      "['91년', '97년', '2025년']\n"
     ]
    }
   ],
   "source": [
    "example1 = \"저는 91년에 태어났습니다. 97년에는 IMF가 있었습니다. 지금은 2025년입니다.\"\n",
    "#\\d(숫자)로 시작하고, .(어떤 문자든) + (최소 1번 이상 반복) 되며,\n",
    "# '년'으로 끝나는 문자열을 반환\n",
    "p = re.findall(r'\\d.+년',example1)\n",
    "print(p)\n",
    "#? 0~1번 사용되면 매치\n",
    "p = re.findall(r'\\d.+?년',example1)\n",
    "print(p)"
   ]
  },
  {
   "cell_type": "code",
   "execution_count": 14,
   "id": "bf3d732d",
   "metadata": {},
   "outputs": [
    {
     "name": "stdout",
     "output_type": "stream",
     "text": [
      "['(이동민, 2019)', '(홍길동, 2019)', '(Lion, 2018)']\n"
     ]
    }
   ],
   "source": [
    "example = \"이동민 교수님은 다음과 같이 설명했습니다.(이동민, 2019). 그런데 다른 교수님은 이 문제에 대해서 다른 견해를 가지고 있었습니다.(홍길동, 2019). 또 다른 견해도 있었습니다.(Lion, 2018)\"\n",
    "# + 최소 1번 이상 반복\n",
    "result = re.findall(r'\\([A-Za-z가-힣]+, \\d+\\)',example)\n",
    "print(result)"
   ]
  },
  {
   "cell_type": "code",
   "execution_count": 15,
   "id": "35030321",
   "metadata": {},
   "outputs": [
    {
     "name": "stdout",
     "output_type": "stream",
     "text": [
      "['I have a lovely dog, really', ' I am not telling a lie', ' What a pretty dog', ' I love this dog', '']\n"
     ]
    }
   ],
   "source": [
    "sentence = 'I have a lovely dog, really. I am not telling a lie. What a pretty dog! I love this dog.'\n",
    "#re.split은 특정한 패턴이 등장할 때 문자열을 나눔\n",
    "#r'[.!?]'에서 r을 쓰면 마침표,느낌표,물음표마다 역슬래시(\\)를 붙이지 않아도 됨\n",
    "result = re.split(r'[.?!]',sentence)\n",
    "print(result)"
   ]
  },
  {
   "cell_type": "code",
   "execution_count": 16,
   "id": "a53d918e",
   "metadata": {},
   "outputs": [
    {
     "name": "stdout",
     "output_type": "stream",
     "text": [
      "['a', '3']\n",
      "['b', '4']\n",
      "['c', '5']\n"
     ]
    }
   ],
   "source": [
    "data = 'a:3;b:4;c:5'\n",
    "for i in re.split(r';',data):\n",
    "    print(re.split(r':',i))"
   ]
  },
  {
   "cell_type": "code",
   "execution_count": 17,
   "id": "b4742acf",
   "metadata": {},
   "outputs": [
    {
     "name": "stdout",
     "output_type": "stream",
     "text": [
      "I have a lovely cat, really. I am not telling a lie. What a pretty cat! I love this cat.\n"
     ]
    }
   ],
   "source": [
    "#sub 메서드는 문자열 바꾸기\n",
    "data2 = re.sub(r'dog','cat',sentence)\n",
    "print(data2)"
   ]
  },
  {
   "cell_type": "code",
   "execution_count": 20,
   "id": "d81eaf24",
   "metadata": {},
   "outputs": [
    {
     "name": "stdout",
     "output_type": "stream",
     "text": [
      "I am home now. \n",
      "\n",
      "\n",
      "I am with my cat.\n",
      "\n",
      "\n",
      "--------------------------------------------------\n",
      "I am home now. I am with my cat.\n"
     ]
    }
   ],
   "source": [
    "words = 'I am home now. \\n\\n\\nI am with my cat.\\n\\n'\n",
    "print(words)\n",
    "print('-' * 50)\n",
    "\n",
    "data3 = re.sub(r'\\n','',words)\n",
    "print(data3)"
   ]
  }
 ],
 "metadata": {
  "kernelspec": {
   "display_name": "python_env",
   "language": "python",
   "name": "python3"
  },
  "language_info": {
   "codemirror_mode": {
    "name": "ipython",
    "version": 3
   },
   "file_extension": ".py",
   "mimetype": "text/x-python",
   "name": "python",
   "nbconvert_exporter": "python",
   "pygments_lexer": "ipython3",
   "version": "3.12.11"
  }
 },
 "nbformat": 4,
 "nbformat_minor": 5
}
