{
 "cells": [
  {
   "cell_type": "code",
   "execution_count": 2,
   "id": "2ebf611a",
   "metadata": {},
   "outputs": [
    {
     "name": "stdout",
     "output_type": "stream",
     "text": [
      "hello\n",
      "error 발생\n"
     ]
    }
   ],
   "source": [
    "#예외처리 try ~ execpt\n",
    "try:\n",
    "    a = 'hello'\n",
    "    print(a)\n",
    "    print(a[10]) #없는 인덱스 호출 오류 발생\n",
    "    print(a)\n",
    "except:\n",
    "    print('error 발생')"
   ]
  },
  {
   "cell_type": "code",
   "execution_count": 3,
   "id": "0199334e",
   "metadata": {},
   "outputs": [
    {
     "name": "stdout",
     "output_type": "stream",
     "text": [
      "hello\n",
      "error 발생\n"
     ]
    }
   ],
   "source": [
    "try:\n",
    "    a = 'hello'\n",
    "    print(a)\n",
    "    print(a[10])\n",
    "    print(a)\n",
    "except IndexError:\n",
    "    print('error 발생')"
   ]
  },
  {
   "cell_type": "code",
   "execution_count": 4,
   "id": "4c98ff7b",
   "metadata": {},
   "outputs": [
    {
     "name": "stdout",
     "output_type": "stream",
     "text": [
      "hello\n",
      "error 발생\n"
     ]
    }
   ],
   "source": [
    "try:\n",
    "    a = 'hello'\n",
    "    print(a)\n",
    "    print(a[10])\n",
    "    print(a)\n",
    "except Exception:\n",
    "    print('error 발생')"
   ]
  },
  {
   "cell_type": "code",
   "execution_count": null,
   "id": "10d66771",
   "metadata": {},
   "outputs": [
    {
     "name": "stdout",
     "output_type": "stream",
     "text": [
      "음~ 무슨 에러인지 모르겠어요!!\n"
     ]
    }
   ],
   "source": [
    "def divide(a,b):\n",
    "    return a /b\n",
    "#try ~ except\n",
    "try:\n",
    "    c = divide(5, 'string')\n",
    "except ZeroDivisionError:\n",
    "    print('두 번째 인자는 0이면 안 됩니다.')\n",
    "except TypeError:\n",
    "    print('모든 인수는 숫자이어야 합니다.')\n",
    "except:\n",
    "    print('음~ 무슨 에러인지 모르겠어요!!')"
   ]
  },
  {
   "cell_type": "code",
   "execution_count": null,
   "id": "c623381d",
   "metadata": {},
   "outputs": [
    {
     "name": "stdout",
     "output_type": "stream",
     "text": [
      "음~ 무슨 에러인지 모르겠어요\n"
     ]
    }
   ],
   "source": [
    "def divide(a,b):\n",
    "    return a /b\n",
    "#try ~ except\n",
    "try:\n",
    "    c = divide(5, 'string')\n",
    "except Exception:\n",
    "    print('음~ 무슨 에러인지 모르겠어요')#모든 에러에 대해서 이 부분에서 처리   \n",
    "except ZeroDivisionError:\n",
    "    print('두 번째 인자는 0이면 안 됩니다.')\n",
    "except TypeError:\n",
    "    print('모든 인수는 숫자이어야 합니다.')"
   ]
  },
  {
   "cell_type": "code",
   "execution_count": 9,
   "id": "4a5ed71a",
   "metadata": {},
   "outputs": [
    {
     "name": "stdout",
     "output_type": "stream",
     "text": [
      "Result : 2.5\n",
      "항상 finally 블록은 수행됩니다.\n"
     ]
    }
   ],
   "source": [
    "def divide(a,b):\n",
    "    return a /b\n",
    "#try ~ except\n",
    "try:\n",
    "    c = divide(5, 2)\n",
    "except ZeroDivisionError:\n",
    "    print('두 번째 인자는 0이면 안 됩니다.')\n",
    "except TypeError:\n",
    "    print('모든 인수는 숫자이어야 합니다.')\n",
    "except:\n",
    "    print('음~ 무슨 에러인지 모르겠어요!!')\n",
    "else: #예외가 발생하지 않는 경우\n",
    "    print('Result : {0}'.format(c))\n",
    "finally: #예외 발생 유무와 상관없이 수해\n",
    "    print('항상 finally 블록은 수행됩니다.')"
   ]
  },
  {
   "cell_type": "code",
   "execution_count": 10,
   "id": "7bfad2e4",
   "metadata": {},
   "outputs": [
    {
     "name": "stdout",
     "output_type": "stream",
     "text": [
      "<class 'tuple'>\n",
      "에러: unsupported operand type(s) for /: 'int' and 'str'\n"
     ]
    }
   ],
   "source": [
    "#예외에 대한 정보를 전달받은 예제\n",
    "def divide(a,b):\n",
    "    return a / b\n",
    "\n",
    "try:\n",
    "    c = divide(5, 'string')\n",
    "except TypeError as e: #전달되는 예외 인스턴스 객체를 e로 받아서 사용\n",
    "    print(type(e.args))\n",
    "    print('에러:',e.args[0])\n",
    "except Exception:\n",
    "    print('음~ 무슨 에러인지 모르게써요!!')"
   ]
  },
  {
   "cell_type": "code",
   "execution_count": 12,
   "id": "f308dfe9",
   "metadata": {},
   "outputs": [
    {
     "name": "stdout",
     "output_type": "stream",
     "text": [
      "수치 연산 관련 에러입니다.\n"
     ]
    }
   ],
   "source": [
    "def divide(a,b):\n",
    "    return a /b\n",
    "#try ~ except\n",
    "try:\n",
    "    c = divide(5, 0)\n",
    "except (ZeroDivisionError,OverflowError):#명시된 에러를 모두 처리\n",
    "    print('수치 연산 관련 에러입니다.')\n",
    "except TypeError:\n",
    "    print('모든 인수는 숫자이어야 합니다.')\n",
    "except:\n",
    "    print('음~ 무슨 에러인지 모르겠어요!!')"
   ]
  },
  {
   "cell_type": "code",
   "execution_count": 13,
   "id": "5eb1f83f",
   "metadata": {},
   "outputs": [
    {
     "name": "stdout",
     "output_type": "stream",
     "text": [
      "하하 호호\n",
      "\n",
      "크크\n",
      "\n",
      "나 참!!\n"
     ]
    }
   ],
   "source": [
    "FilePath = './files/test.txt'\n",
    "\n",
    "try:\n",
    "    f = open(FilePath,'r')\n",
    "    try:\n",
    "        data = f.read(128)\n",
    "        print(data)\n",
    "    finally:\n",
    "        f.close()\n",
    "except IOError:\n",
    "    print(\"Fail to open {0} file\".format(FilePath))"
   ]
  },
  {
   "cell_type": "code",
   "execution_count": 14,
   "id": "5bebfebb",
   "metadata": {},
   "outputs": [
    {
     "name": "stdout",
     "output_type": "stream",
     "text": [
      "하하\n",
      "NameError is Catched\n"
     ]
    }
   ],
   "source": [
    "#의도적으로 예외를 발생시킴\n",
    "#raise[Exception] : 해당 예외를 발생합니다.\n",
    "#raise[Exception(data)] : 예외 발생시 관련 데이터를 전달\n",
    "#raise : 발생된 예외를 상위로 전달\n",
    "\n",
    "def RaiseErrorFunc():\n",
    "    raise NameError('하하') #내장 예외인 NameError 발생\n",
    "\n",
    "try:\n",
    "    RaiseErrorFunc()\n",
    "except NameError as e:\n",
    "    print(e.args[0])\n",
    "    print(\"NameError is Catched\")"
   ]
  },
  {
   "cell_type": "code",
   "execution_count": 15,
   "id": "702076be",
   "metadata": {},
   "outputs": [
    {
     "name": "stdout",
     "output_type": "stream",
     "text": [
      "Error - Second argument of PositiveDivide is  -3\n"
     ]
    }
   ],
   "source": [
    "#사용자정의 예외\n",
    "class NegativeDivisionError(Exception): #사용자정의 예외 정의\n",
    "    def __init__(self,value):\n",
    "        self.value = value\n",
    "\n",
    "def PositiveDivide(a,b):\n",
    "    if(b < 0): #제수가 0보다 작은 경우, NegativeDivisionError 발생\n",
    "        raise NegativeDivisionError(b)\n",
    "    return a / b\n",
    "\n",
    "try:\n",
    "    ret = PositiveDivide(10,-3)\n",
    "    print('10 / -3 = {0}'.format(ret))\n",
    "except NegativeDivisionError as e: #사용자정의 예외인 경우\n",
    "    print('Error - Second argument of PositiveDivide is ',e.value)\n",
    "except ZeroDivisionError as e:\n",
    "    print('Error - ', e.args[0])\n",
    "except: #그 외 모든 예외의 경우\n",
    "    print('잘 모르는 예외')"
   ]
  }
 ],
 "metadata": {
  "kernelspec": {
   "display_name": "python_env",
   "language": "python",
   "name": "python3"
  },
  "language_info": {
   "codemirror_mode": {
    "name": "ipython",
    "version": 3
   },
   "file_extension": ".py",
   "mimetype": "text/x-python",
   "name": "python",
   "nbconvert_exporter": "python",
   "pygments_lexer": "ipython3",
   "version": "3.12.11"
  }
 },
 "nbformat": 4,
 "nbformat_minor": 5
}
