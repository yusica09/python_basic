{
 "cells": [
  {
   "cell_type": "code",
   "execution_count": 1,
   "id": "ac1f91de",
   "metadata": {},
   "outputs": [
    {
     "name": "stdout",
     "output_type": "stream",
     "text": [
      "[20, 10, 50, 40, 30]\n"
     ]
    }
   ],
   "source": [
    "data = [20,10,50,40,30]\n",
    "print(data)"
   ]
  },
  {
   "cell_type": "code",
   "execution_count": 2,
   "id": "ce881010",
   "metadata": {},
   "outputs": [
    {
     "name": "stdout",
     "output_type": "stream",
     "text": [
      "[10, 20, 30, 40, 50]\n"
     ]
    }
   ],
   "source": [
    "data.sort() #오름차순으로 정렬\n",
    "print(data)"
   ]
  },
  {
   "cell_type": "code",
   "execution_count": 4,
   "id": "8b2a9bdb",
   "metadata": {},
   "outputs": [
    {
     "name": "stdout",
     "output_type": "stream",
     "text": [
      "[50, 40, 30, 20, 10]\n"
     ]
    }
   ],
   "source": [
    "data.sort(reverse=True) #내림차순으로 정렬\n",
    "print(data)"
   ]
  },
  {
   "cell_type": "code",
   "execution_count": 5,
   "id": "ccb3900d",
   "metadata": {},
   "outputs": [
    {
     "name": "stdout",
     "output_type": "stream",
     "text": [
      "[10, 20, 30, 40, 50]\n"
     ]
    }
   ],
   "source": [
    "data.reverse() #반대로 정렬\n",
    "print(data)"
   ]
  },
  {
   "cell_type": "code",
   "execution_count": 6,
   "id": "1797f296",
   "metadata": {},
   "outputs": [
    {
     "name": "stdout",
     "output_type": "stream",
     "text": [
      "['서울', '부산', '대구', '인천', '광주']\n"
     ]
    }
   ],
   "source": [
    "data2 = ['서울','부산','대구','인천','광주']\n",
    "print(data2)"
   ]
  },
  {
   "cell_type": "code",
   "execution_count": 7,
   "id": "916acd59",
   "metadata": {},
   "outputs": [
    {
     "name": "stdout",
     "output_type": "stream",
     "text": [
      "['광주', '대구', '부산', '서울', '인천']\n"
     ]
    }
   ],
   "source": [
    "data2.sort() #오름차순으로 정렬\n",
    "print(data2)"
   ]
  },
  {
   "cell_type": "code",
   "execution_count": 9,
   "id": "ddac3e50",
   "metadata": {},
   "outputs": [
    {
     "name": "stdout",
     "output_type": "stream",
     "text": [
      "['인천', '서울', '부산', '대구', '광주']\n"
     ]
    }
   ],
   "source": [
    "data2.sort(reverse=True) #내림차순으로 정렬\n",
    "print(data2)"
   ]
  },
  {
   "cell_type": "code",
   "execution_count": 10,
   "id": "76d51692",
   "metadata": {},
   "outputs": [
    {
     "name": "stdout",
     "output_type": "stream",
     "text": [
      "['광주', '대구', '부산', '서울', '인천']\n"
     ]
    }
   ],
   "source": [
    "data2.reverse() #반대로 정렬\n",
    "print(data2)"
   ]
  },
  {
   "cell_type": "code",
   "execution_count": 11,
   "id": "707d7ebb",
   "metadata": {},
   "outputs": [
    {
     "name": "stdout",
     "output_type": "stream",
     "text": [
      "Python is fun!\n"
     ]
    }
   ],
   "source": [
    "#문자열과 리스트\n",
    "\n",
    "string1 = \"Python is fun!\"\n",
    "print(string1)\n"
   ]
  },
  {
   "cell_type": "code",
   "execution_count": 12,
   "id": "2eb5d1ae",
   "metadata": {},
   "outputs": [
    {
     "name": "stdout",
     "output_type": "stream",
     "text": [
      "10\n"
     ]
    }
   ],
   "source": [
    "x = string1.find(\"fun\") #string1에서 \"fun\"이 제일 먼저 나오는 위치, 즉 인덱스\n",
    "print(x)"
   ]
  },
  {
   "cell_type": "code",
   "execution_count": 13,
   "id": "26c6c0c4",
   "metadata": {},
   "outputs": [
    {
     "name": "stdout",
     "output_type": "stream",
     "text": [
      "사과는 맛있다. 나는 사과를 제일 좋아한다\n"
     ]
    }
   ],
   "source": [
    "string2 = \"사과는 맛있다. 나는 사과를 제일 좋아한다\"\n",
    "print(string2)"
   ]
  },
  {
   "cell_type": "code",
   "execution_count": 14,
   "id": "472790ad",
   "metadata": {},
   "outputs": [
    {
     "name": "stdout",
     "output_type": "stream",
     "text": [
      "딸기는 맛있다. 나는 딸기를 제일 좋아한다\n"
     ]
    }
   ],
   "source": [
    "x = string2.replace(\"사과\",\"딸기\")\n",
    "print(x)"
   ]
  },
  {
   "cell_type": "code",
   "execution_count": 15,
   "id": "98112b35",
   "metadata": {},
   "outputs": [
    {
     "name": "stdout",
     "output_type": "stream",
     "text": [
      "have a nice day\n"
     ]
    }
   ],
   "source": [
    "hello = \"have a nice day\"\n",
    "print(hello)"
   ]
  },
  {
   "cell_type": "code",
   "execution_count": 16,
   "id": "c2d015ef",
   "metadata": {},
   "outputs": [
    {
     "name": "stdout",
     "output_type": "stream",
     "text": [
      "<class 'list'>\n"
     ]
    }
   ],
   "source": [
    "list1 = hello.split(\" \")\n",
    "print(type(list1))"
   ]
  },
  {
   "cell_type": "code",
   "execution_count": 17,
   "id": "b060e658",
   "metadata": {},
   "outputs": [
    {
     "name": "stdout",
     "output_type": "stream",
     "text": [
      "list1[0] : have\n",
      "list1[1] : a\n",
      "list1[2] : nice\n",
      "list1[3] : day\n"
     ]
    }
   ],
   "source": [
    "for i in range(0,len(list1)):\n",
    "    print(\"list1[%d] : %s\" % (i,list1[i]))"
   ]
  },
  {
   "cell_type": "code",
   "execution_count": 18,
   "id": "18081b9c",
   "metadata": {},
   "outputs": [
    {
     "name": "stdout",
     "output_type": "stream",
     "text": [
      "['홍길동', '장영실', '김유신']\n"
     ]
    }
   ],
   "source": [
    "#리스트 문자열로 변환\n",
    "names = [\"홍길동\",\"장영실\",\"김유신\"]\n",
    "print(names)"
   ]
  },
  {
   "cell_type": "code",
   "execution_count": 19,
   "id": "e55874f7",
   "metadata": {},
   "outputs": [
    {
     "name": "stdout",
     "output_type": "stream",
     "text": [
      "홍길동/장영실/김유신\n"
     ]
    }
   ],
   "source": [
    "#리스트를 지정한 구분자로 구분해서 반환(데이터가 문자열만 가능\n",
    "#숫자면 오류)\n",
    "x = \"/\".join(names)\n",
    "print(x)"
   ]
  },
  {
   "cell_type": "code",
   "execution_count": 20,
   "id": "7177377f",
   "metadata": {},
   "outputs": [
    {
     "name": "stdout",
     "output_type": "stream",
     "text": [
      "['010', '1234', '5678']\n"
     ]
    }
   ],
   "source": [
    "phone1 = [\"010\",\"1234\",\"5678\"]\n",
    "print(phone1)"
   ]
  },
  {
   "cell_type": "code",
   "execution_count": 21,
   "id": "1ae894db",
   "metadata": {},
   "outputs": [
    {
     "name": "stdout",
     "output_type": "stream",
     "text": [
      "010-1234-5678\n"
     ]
    }
   ],
   "source": [
    "phone2 = \"-\".join(phone1)\n",
    "print(phone2)"
   ]
  },
  {
   "cell_type": "code",
   "execution_count": 25,
   "id": "f62c1231",
   "metadata": {},
   "outputs": [
    {
     "name": "stdout",
     "output_type": "stream",
     "text": [
      "10\n",
      "20\n",
      "30\n",
      "40\n",
      "50\n",
      "60\n",
      "70\n",
      "80\n"
     ]
    }
   ],
   "source": [
    "#2차원 리스트\n",
    "number2 = [[10,20,30],[40,50,60,70,80]]\n",
    "print(number2[0][0])\n",
    "print(number2[0][1])\n",
    "print(number2[0][2])\n",
    "print(number2[1][0])\n",
    "print(number2[1][1])\n",
    "print(number2[1][2])\n",
    "print(number2[1][3])\n",
    "print(number2[1][4])"
   ]
  },
  {
   "cell_type": "code",
   "execution_count": 26,
   "id": "7dc16b1c",
   "metadata": {},
   "outputs": [
    {
     "name": "stdout",
     "output_type": "stream",
     "text": [
      "data[0][0] = 10\n",
      "data[0][1] = 20\n",
      "data[1][0] = 30\n",
      "data[1][1] = 40\n",
      "data[2][0] = 50\n",
      "data[2][1] = 60\n",
      "data[3][0] = 70\n",
      "data[3][1] = 80\n"
     ]
    }
   ],
   "source": [
    "data = [[10,20],[30,40],[50,60],[70,80]]\n",
    "for i in range(4): #i는 리스트의 행\n",
    "    for j in range(2): #j는 리스트의 열\n",
    "        print(\"data[%d][%d] = %d\" % (i, j, data[i][j]))"
   ]
  }
 ],
 "metadata": {
  "kernelspec": {
   "display_name": "python_env",
   "language": "python",
   "name": "python3"
  },
  "language_info": {
   "codemirror_mode": {
    "name": "ipython",
    "version": 3
   },
   "file_extension": ".py",
   "mimetype": "text/x-python",
   "name": "python",
   "nbconvert_exporter": "python",
   "pygments_lexer": "ipython3",
   "version": "3.12.11"
  }
 },
 "nbformat": 4,
 "nbformat_minor": 5
}
