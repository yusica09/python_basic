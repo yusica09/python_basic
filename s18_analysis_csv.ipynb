{
 "cells": [
  {
   "cell_type": "code",
   "execution_count": 1,
   "id": "44cf76dd",
   "metadata": {},
   "outputs": [
    {
     "name": "stdout",
     "output_type": "stream",
     "text": [
      "<_csv.reader object at 0x00000273D5B5D9C0>\n"
     ]
    }
   ],
   "source": [
    "import csv\n",
    "\n",
    "f = open(\"files/a.csv\",\"r\")\n",
    "#객체 f를 csv.reader로 읽어서 new 변수에 저장\n",
    "new = csv.reader(f)\n",
    "print(new) #csv 모듈의 객체"
   ]
  },
  {
   "cell_type": "code",
   "execution_count": 2,
   "id": "3acddaf0",
   "metadata": {},
   "outputs": [
    {
     "name": "stdout",
     "output_type": "stream",
     "text": [
      "['국어', '영어', '수학']\n",
      "['90', '80', '100']\n",
      "--------------------------------------------------\n",
      "['국어', '영어', '수학']\n",
      "['90', '80', '100']\n",
      "[['국어', '영어', '수학'], ['90', '80', '100']]\n"
     ]
    }
   ],
   "source": [
    "for i in new:\n",
    "    print(i)\n",
    "print('-' * 50) \n",
    "\n",
    "#파일의 내용을 읽으면 커서가 마지막으로 이동해 있기 때문에\n",
    "#다시 파일을 읽으려면 커서를 처음으로 이동시킴\n",
    "f.seek(0)\n",
    "\n",
    "#a.csv 파일의 내용을 파이썬에서 사용할 수 있도록 csv형 리스트로\n",
    "#바꿈\n",
    "a_list = []\n",
    "\n",
    "for i in new:\n",
    "    print(i) #리스트 반환\n",
    "    a_list.append(i)\n",
    "print(a_list)\n",
    "\n",
    "f.close()"
   ]
  },
  {
   "cell_type": "code",
   "execution_count": 3,
   "id": "d66c82d9",
   "metadata": {},
   "outputs": [
    {
     "name": "stdout",
     "output_type": "stream",
     "text": [
      "[['이름', '국어', '영어', '수학'], ['홍길동', '90', '80', '100'], ['박문수', '80', '90', '90'], ['장영실', '100', '80', '60']]\n"
     ]
    }
   ],
   "source": [
    "from usecsv import opencsv\n",
    "\n",
    "print(opencsv(\"files/example2.csv\",\"utf-8\"))\n"
   ]
  },
  {
   "cell_type": "code",
   "execution_count": 4,
   "id": "981b7212",
   "metadata": {},
   "outputs": [
    {
     "name": "stdout",
     "output_type": "stream",
     "text": [
      "csv 파일을 생성함\n"
     ]
    }
   ],
   "source": [
    "a = [['구','전체','내국인','외국인'],\n",
    "     ['관악구','519864','502089','17775'],\n",
    "     ['강남구','547602','542498','5104'],\n",
    "     ['송파구','686181','679247','6934'],\n",
    "     ['강동구','428547','424235','4312']\n",
    "    ]\n",
    "\n",
    "f = open('files/abc.csv','w',encoding='utf-8',newline='')\n",
    "#newline=''을 open()함수에 입력해 함. 이것을 입력하지 않으면\n",
    "#줄바꿈이 한 번 더 일어남\n",
    "csvobject = csv.writer(f,delimiter=',')\n",
    "#csv형 리스트가 저장된 객체를 파일에 쓸 때 writerows 사용\n",
    "csvobject.writerows(a)\n",
    "print(\"csv 파일을 생성함\")\n",
    "f.close()\n",
    "\n"
   ]
  },
  {
   "cell_type": "code",
   "execution_count": 5,
   "id": "dea457a9",
   "metadata": {},
   "outputs": [
    {
     "name": "stdout",
     "output_type": "stream",
     "text": [
      "csv 파일 생성\n"
     ]
    }
   ],
   "source": [
    "from usecsv import writecsv\n",
    "\n",
    "a = [['구','전체','내국인','외국인'],\n",
    "     ['관악구','519864','502089','17775'],\n",
    "     ['강남구','547602','542498','5104'],\n",
    "     ['송파구','686181','679247','6934'],\n",
    "     ['강동구','428547','424235','4312']\n",
    "    ]\n",
    "\n",
    "writecsv('files/abc2.csv','utf-8',a)\n",
    "print('csv 파일 생성')"
   ]
  },
  {
   "cell_type": "code",
   "execution_count": 6,
   "id": "21cf72a1",
   "metadata": {},
   "outputs": [
    {
     "name": "stdout",
     "output_type": "stream",
     "text": [
      "[['구', '한국인', '외국인', '고령자'], ['합계', '9,740,398', '285,529', '1,468,146'], ['종로구', '151,767', '11,093', '27,394'], ['중구', '126,409', '10,254', '23,025'], ['용산구', '228,830', '16,159', '38,531'], ['성동구', '303,158', '8,132', '43,662'], ['광진구', '352,692', '15,645', '47,347'], ['동대문구', '346,551', '17,228', '58,764'], ['중랑구', '398,812', '4,964', '64,449'], ['성북구', '441,590', '12,524', '70,204'], ['강북구', '314,090', '3,785', '59,808'], ['도봉구', '335,280', '2,314', '58,070'], ['노원구', '535,282', '4,547', '79,968'], ['은평구', '481,663', '4,496', '79,957'], ['서대문구', '310,069', '14,020', '51,708'], ['마포구', '373,629', '11,976', '51,961'], ['양천구', '459,849', '4,082', '60,487'], ['강서구', '593,708', '6,532', '82,937'], ['구로구', '406,748', '33,102', '64,952'], ['금천구', '233,371', '19,497', '37,191'], ['영등포구', '368,402', '34,076', '57,350'], ['동작구', '397,618', '12,869', '61,607'], ['관악구', '502,117', '17,836', '74,518'], ['서초구', '431,027', '4,231', '56,455'], ['강남구', '544,028', '5,015', '70,029'], ['송파구', '677,489', '6,849', '86,062'], ['강동구', '426,219', '4,303', '61,710']]\n",
      "--------------------------------------------------\n",
      "['구', '한국인', '외국인', '고령자']\n",
      "['합계', '9,740,398', '285,529', '1,468,146']\n",
      "['종로구', '151,767', '11,093', '27,394']\n",
      "['중구', '126,409', '10,254', '23,025']\n",
      "['용산구', '228,830', '16,159', '38,531']\n",
      "--------------------------------------------------\n",
      "['종로구', '151,767', '11,093', '27,394']\n"
     ]
    }
   ],
   "source": [
    "import usecsv, re\n",
    "total = usecsv.opencsv(\"files/popSeoul.csv\",\"utf-8\")\n",
    "print(total)\n",
    "print('-' * 50)\n",
    "\n",
    "for i in total[:5]: #0 ~ 4\n",
    "    print(i)\n",
    "print('-' * 50)\n",
    "\n",
    "i = total[2] #종로구가 포함된 리스트\n",
    "print(i)"
   ]
  },
  {
   "cell_type": "code",
   "execution_count": 7,
   "id": "2070fee8",
   "metadata": {},
   "outputs": [
    {
     "name": "stdout",
     "output_type": "stream",
     "text": [
      "['종로구', 151767.0, 11093.0, 27394.0]\n"
     ]
    }
   ],
   "source": [
    "k = []\n",
    "for j in i: #종로구가 포함된 리스트\n",
    "    #re.search 함수는 문자열의 처음뿐 아니라 중간부터라도\n",
    "    #패턴과 일치되는 부분이 있는지 찾음\n",
    "    if re.search(r'\\d',j):\n",
    "        #re.sub 정규 표현식, 치환 문자대상 문자열\n",
    "        k.append(float(re.sub(',','',j))) #실수로 변환\n",
    "    else:\n",
    "        k.append(j)\n",
    "\n",
    "print(k)"
   ]
  },
  {
   "cell_type": "code",
   "execution_count": 8,
   "id": "f94d4e11",
   "metadata": {},
   "outputs": [
    {
     "name": "stdout",
     "output_type": "stream",
     "text": [
      "['종로구', 151767.0, 11093.0, 27394.0]\n"
     ]
    }
   ],
   "source": [
    "k = []\n",
    "for j in i: #종로구가 포함된 리스트\n",
    "    #알파벳 또는 한글, 특수문자(!)가 있다면 그대로 k에 저장\n",
    "    if re.search(r'[a-z가-힣!]',j):\n",
    "        k.append(j)\n",
    "    else:\n",
    "        #숫자이면 실수로 변환해서 저장\n",
    "        k.append(float(re.sub(',','',j)))\n",
    "\n",
    "print(k)"
   ]
  },
  {
   "cell_type": "code",
   "execution_count": 9,
   "id": "fe3b521f",
   "metadata": {},
   "outputs": [
    {
     "name": "stdout",
     "output_type": "stream",
     "text": [
      "['123!!', 151767.0, 11093.0, 27394.0, '', '!!!$%']\n"
     ]
    }
   ],
   "source": [
    "#예외처리로 오류 넘겨서 조건을 단순화함\n",
    "i = ['123!!','151,767','11,093','27394','','!!!$%']\n",
    "for j in i:\n",
    "    try:\n",
    "        i[i.index(j)] = (float(re.sub(',','',j)))\n",
    "    except:\n",
    "        #일부 코드가 구문상 필요는 하지만 프로그램이 아무 작업도\n",
    "        #하지 않을 경우\n",
    "        pass\n",
    "print(i)"
   ]
  },
  {
   "cell_type": "code",
   "execution_count": 10,
   "id": "e011865a",
   "metadata": {},
   "outputs": [
    {
     "name": "stdout",
     "output_type": "stream",
     "text": [
      "['합계', 9740398.0, 285529.0, 1468146.0]\n"
     ]
    }
   ],
   "source": [
    "#예외 처리로 숫자만 골라서 숫자형으로 바꾸기(popSeoul.csv에 적용)\n",
    "i = total[1] #합계가 포함된 리스트\n",
    "for j in i:\n",
    "    try:\n",
    "        i[i.index(j)] = (float(re.sub(',','',j)))\n",
    "    except:\n",
    "        pass\n",
    "print(i)"
   ]
  },
  {
   "cell_type": "code",
   "execution_count": 11,
   "id": "5ad42b2b",
   "metadata": {},
   "outputs": [
    {
     "name": "stdout",
     "output_type": "stream",
     "text": [
      "['합계', 9740398.0, 285529.0, 1468146.0]\n"
     ]
    }
   ],
   "source": [
    "i = total[1]\n",
    "for j in range(len(i)):\n",
    "    try:\n",
    "        i[j] = (float(re.sub(',','',j)))\n",
    "    except:\n",
    "        pass\n",
    "print(i)"
   ]
  },
  {
   "cell_type": "code",
   "execution_count": 12,
   "id": "332d7583",
   "metadata": {},
   "outputs": [
    {
     "name": "stdout",
     "output_type": "stream",
     "text": [
      "[['구', '한국인', '외국인', '고령자'], ['합계', 9740398.0, 285529.0, 1468146.0], ['종로구', 151767.0, 11093.0, 27394.0], ['중구', 126409.0, 10254.0, 23025.0], ['용산구', 228830.0, 16159.0, 38531.0], ['성동구', 303158.0, 8132.0, 43662.0], ['광진구', 352692.0, 15645.0, 47347.0], ['동대문구', 346551.0, 17228.0, 58764.0], ['중랑구', 398812.0, 4964.0, 64449.0], ['성북구', 441590.0, 12524.0, 70204.0], ['강북구', 314090.0, 3785.0, 59808.0], ['도봉구', 335280.0, 2314.0, 58070.0], ['노원구', 535282.0, 4547.0, 79968.0], ['은평구', 481663.0, 4496.0, 79957.0], ['서대문구', 310069.0, 14020.0, 51708.0], ['마포구', 373629.0, 11976.0, 51961.0], ['양천구', 459849.0, 4082.0, 60487.0], ['강서구', 593708.0, 6532.0, 82937.0], ['구로구', 406748.0, 33102.0, 64952.0], ['금천구', 233371.0, 19497.0, 37191.0], ['영등포구', 368402.0, 34076.0, 57350.0], ['동작구', 397618.0, 12869.0, 61607.0], ['관악구', 502117.0, 17836.0, 74518.0], ['서초구', 431027.0, 4231.0, 56455.0], ['강남구', 544028.0, 5015.0, 70029.0], ['송파구', 677489.0, 6849.0, 86062.0], ['강동구', 426219.0, 4303.0, 61710.0]]\n"
     ]
    }
   ],
   "source": [
    "#예외 처리로 숫자만 골라서 숫자형으로 바꾸기(전체 데이터 출력)\n",
    "for i in total:\n",
    "    for j in i:\n",
    "        try:\n",
    "            i[i.index(j)] = (float(re.sub(',','',j)))\n",
    "        except:\n",
    "            pass\n",
    "print(total)"
   ]
  },
  {
   "cell_type": "code",
   "execution_count": 13,
   "id": "92e8ef12",
   "metadata": {},
   "outputs": [
    {
     "name": "stdout",
     "output_type": "stream",
     "text": [
      "[['구', '한국인', '외국인', '고령자'], ['합계', 9740398.0, 285529.0, 1468146.0], ['종로구', 151767.0, 11093.0, 27394.0], ['중구', 126409.0, 10254.0, 23025.0]]\n"
     ]
    }
   ],
   "source": [
    "#외국인 비율이 3%를 넘는 구 정보만 csv파일로 저장하기\n",
    "total = usecsv.opencsv(\"files/popSeoul.csv\",\"utf-8\")\n",
    "newPop = usecsv.switch(total) #실수로 변환\n",
    "print(newPop[:4])"
   ]
  },
  {
   "cell_type": "code",
   "execution_count": 14,
   "id": "63a1dcaa",
   "metadata": {},
   "outputs": [
    {
     "name": "stdout",
     "output_type": "stream",
     "text": [
      "['합계', 9740398.0, 285529.0, 1468146.0]\n"
     ]
    }
   ],
   "source": [
    "#등록외국인 비율 계산기\n",
    "i = newPop[1]\n",
    "print(i)"
   ]
  },
  {
   "cell_type": "code",
   "execution_count": 15,
   "id": "4f7ab703",
   "metadata": {},
   "outputs": [
    {
     "name": "stdout",
     "output_type": "stream",
     "text": [
      "2.847906233508383\n"
     ]
    }
   ],
   "source": [
    "#외국인 / 한국인 + 외국인\n",
    "print(i[2] / (i[1] + i[2]) * 100) #전체 인구 대비 외국인 비율을 계산"
   ]
  },
  {
   "cell_type": "code",
   "execution_count": 16,
   "id": "cd7fa03c",
   "metadata": {},
   "outputs": [
    {
     "name": "stdout",
     "output_type": "stream",
     "text": [
      "2.8\n"
     ]
    }
   ],
   "source": [
    "foreign = round(i[2] / (i[1] + i[2]) * 100, 1) #소수점 첫째자리까지만 구함\n",
    "print(foreign)"
   ]
  },
  {
   "cell_type": "code",
   "execution_count": 17,
   "id": "59f0db8b",
   "metadata": {},
   "outputs": [
    {
     "name": "stdout",
     "output_type": "stream",
     "text": [
      "합계 2.8\n",
      "종로구 6.8\n",
      "중구 7.5\n",
      "용산구 6.6\n",
      "성동구 2.6\n",
      "광진구 4.2\n",
      "동대문구 4.7\n",
      "중랑구 1.2\n",
      "성북구 2.8\n",
      "강북구 1.2\n",
      "도봉구 0.7\n",
      "노원구 0.8\n",
      "은평구 0.9\n",
      "서대문구 4.3\n",
      "마포구 3.1\n",
      "양천구 0.9\n",
      "강서구 1.1\n",
      "구로구 7.5\n",
      "금천구 7.7\n",
      "영등포구 8.5\n",
      "동작구 3.1\n",
      "관악구 3.4\n",
      "서초구 1.0\n",
      "강남구 0.9\n",
      "송파구 1.0\n",
      "강동구 1.0\n"
     ]
    }
   ],
   "source": [
    "#각 구의 외국인 비율 구하기\n",
    "for i in newPop:\n",
    "    foreign = 0\n",
    "    try:\n",
    "        foreign = round(i[2] / (i[1] + i[2]) * 100, 1)\n",
    "        print(i[0],foreign)\n",
    "    except:\n",
    "        pass"
   ]
  },
  {
   "cell_type": "code",
   "execution_count": 18,
   "id": "3f19722f",
   "metadata": {},
   "outputs": [
    {
     "name": "stdout",
     "output_type": "stream",
     "text": [
      "[['구', '한국인', '외국인', '외국인 비율(%)']]\n"
     ]
    }
   ],
   "source": [
    "# 첫 행 지정하기\n",
    "new = [['구','한국인','외국인','외국인 비율(%)']]\n",
    "print(new)"
   ]
  },
  {
   "cell_type": "code",
   "execution_count": 19,
   "id": "216a8923",
   "metadata": {},
   "outputs": [
    {
     "name": "stdout",
     "output_type": "stream",
     "text": [
      "[['구', '한국인', '외국인', '외국인 비율(%)'], ['종로구', 151767.0, 11093.0, 6.8], ['중구', 126409.0, 10254.0, 7.5], ['용산구', 228830.0, 16159.0, 6.6], ['광진구', 352692.0, 15645.0, 4.2], ['동대문구', 346551.0, 17228.0, 4.7], ['서대문구', 310069.0, 14020.0, 4.3], ['마포구', 373629.0, 11976.0, 3.1], ['구로구', 406748.0, 33102.0, 7.5], ['금천구', 233371.0, 19497.0, 7.7], ['영등포구', 368402.0, 34076.0, 8.5], ['동작구', 397618.0, 12869.0, 3.1], ['관악구', 502117.0, 17836.0, 3.4]]\n"
     ]
    }
   ],
   "source": [
    "for i in newPop:\n",
    "    foreign = 0\n",
    "    try:\n",
    "        # 외국인 비율을 소수점 첫번째 자리까지 구함\n",
    "        foreign = round(i[2] / (i[1] + i[2]) * 100, 1)\n",
    "        if foreign > 3: #외국인 비율이 3%를 초과할 때만 출력\n",
    "            new.append([i[0],i[1],i[2],foreign])\n",
    "    except:\n",
    "        pass\n",
    "print(new)"
   ]
  },
  {
   "cell_type": "code",
   "execution_count": 20,
   "id": "e5ac9cd1",
   "metadata": {},
   "outputs": [
    {
     "name": "stdout",
     "output_type": "stream",
     "text": [
      "csv 파일이 생성되었습니다.\n"
     ]
    }
   ],
   "source": [
    "usecsv.writecsv('files/foreignrate.csv','utf-8',new)\n",
    "print('csv 파일이 생성되었습니다.')"
   ]
  },
  {
   "cell_type": "code",
   "execution_count": null,
   "id": "38527e18",
   "metadata": {},
   "outputs": [],
   "source": []
  }
 ],
 "metadata": {
  "kernelspec": {
   "display_name": "python_env",
   "language": "python",
   "name": "python3"
  },
  "language_info": {
   "codemirror_mode": {
    "name": "ipython",
    "version": 3
   },
   "file_extension": ".py",
   "mimetype": "text/x-python",
   "name": "python",
   "nbconvert_exporter": "python",
   "pygments_lexer": "ipython3",
   "version": "3.12.11"
  }
 },
 "nbformat": 4,
 "nbformat_minor": 5
}
